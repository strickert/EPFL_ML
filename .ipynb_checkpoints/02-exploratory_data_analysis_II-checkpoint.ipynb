{
 "cells": [
  {
   "cell_type": "markdown",
   "metadata": {
    "id": "Tcp6PULBCqss",
    "tags": []
   },
   "source": [
    "# 5. Capstone Project: Exploratory Data Analysis II"
   ]
  },
  {
   "cell_type": "markdown",
   "metadata": {
    "id": "MxLOusgfEwks",
    "tags": []
   },
   "source": [
    "***\n",
    "\n",
    "![headerall](./images/headers/header_all.jpg)\n",
    "\n",
    "### Project:\n",
    "In this work, we will first analyze where and when traffic congestion is highest and lowest in New York State. We will then build different machine learning models capable of predicting cab travel times in and around New York City using only variables that can be easily obtained from a smartphone app or a website. We will then compare their performance and explore the possibility of using additional variables such as weather forecasts and holidays to improve the predictive performance of the models.\n",
    "\n",
    "### Section:\n",
    "In this section, we will detect and describe patterns, trends, and relationships among geospatial and temporal features in a subset (1%) of the 2018 NYC yellow cab trip dataset to identify variables that may impact traffic flow, and thus trip duration, in and around New York City. The exploratory data analysis will be divided into two subsections, the first focused on the New York City taxi trip dataset (Exploratory Data Analysis, Part I), and the second on the external datasets (Data Preparation, Part II). At the end of the second subsection, the combined dataset will be analyzed.\n",
    "\n",
    "## Data\n",
    "### External Datasets:\n",
    "- Weather Forecast: The 2018 NYC weather forecast was collected from the [National Weather Service Forecast Office](https://w2.weather.gov/climate/index.php?wfo=okx) website. Daily measurements were taken from January to December 2018 in Central Park. These measures are given in imperial units and include daily minimum and maximum temperatures, precipitations, snowfall, and snow depth.\n",
    "\n",
    "- Holidays: The 2018 NYC holidays list was collected from the [Office Holiday](https://www.officeholidays.com/countries/usa/new-york/2021) website. The dataset contains the name, date, and type of holidays for New York.\n",
    "\n",
    "- Taxi Zones: The NYC Taxi Zones dataset was collected from the [NYC Open Data](https://data.cityofnewyork.us/Transportation/NYC-Taxi-Zones/d3c5-ddgc) website. It contains the pickup and drop-off zones (Location IDs) for the Yellow, Green, and FHV Trip Records. The taxi zones are based on the NYC Department of City Planning’s Neighborhood.\n",
    "\n",
    "### Primary Datasets:\n",
    "\n",
    "- Taxi Trips: The 2018 NYC Taxi Trip dataset was collected from the [Google Big Query](https://console.cloud.google.com/marketplace/product/city-of-new-york/nyc-tlc-trips?project=jovial-monument-300209&folder=&organizationId=) platform. The dataset contains more than 100'000'000 Yellow Taxi Trip records for 2018 and contains an extensive amount of variables including the pick-up and drop-off dates/times, pick-up and drop-off locations, trip distances, itemized fares, rate types, payment types, and driver-reported passenger counts."
   ]
  },
  {
   "cell_type": "markdown",
   "metadata": {
    "id": "J8tvC_V2FEj5"
   },
   "source": [
    "***\n",
    "## Table of Content:\n",
    "    1. Data Preparation\n",
    "        1.1 External Datasets\n",
    "            1.1.1 Weather Forecast Dataset\n",
    "            1.1.2 Holidays Dataset\n",
    "            1.1.3 Taxi Zones Dataset\n",
    "        1.2 Primary Dataset\n",
    "            1.2.1 Taxi Trips Dataset\n",
    "            1.2.2 Taxi Trips Subset\n",
    "    2. Exploratory Data Analysis\n",
    "        2.1 Primary Dataset\n",
    "            2.1.1 Temporal Analysis\n",
    "            2.1.2 Spatio-Temporal Analysis\n",
    "        2.2 External Datasets\n",
    "            2.2.1 Temporal Analysis of Weather Data\n",
    "            2.2.2 Temporal Analysis of Holidays Data\n",
    "        2.3 Combined Dataset\n",
    "            2.3.1 Overall Features Correlation\n",
    "    3. Machine Learning Models"
   ]
  },
  {
   "cell_type": "markdown",
   "metadata": {
    "tags": []
   },
   "source": [
    "***\n",
    "## Python Libraries and Magic commands Import"
   ]
  },
  {
   "cell_type": "code",
   "execution_count": 1,
   "metadata": {},
   "outputs": [
    {
     "ename": "ModuleNotFoundError",
     "evalue": "No module named 'contextily'",
     "output_type": "error",
     "traceback": [
      "\u001b[1;31m---------------------------------------------------------------------------\u001b[0m",
      "\u001b[1;31mModuleNotFoundError\u001b[0m                       Traceback (most recent call last)",
      "\u001b[1;32m<ipython-input-1-2ab9576379fa>\u001b[0m in \u001b[0;36m<module>\u001b[1;34m()\u001b[0m\n\u001b[0;32m      7\u001b[0m \u001b[1;33m\u001b[0m\u001b[0m\n\u001b[0;32m      8\u001b[0m \u001b[1;31m# Import Visualization librairies\u001b[0m\u001b[1;33m\u001b[0m\u001b[1;33m\u001b[0m\u001b[1;33m\u001b[0m\u001b[0m\n\u001b[1;32m----> 9\u001b[1;33m \u001b[1;32mimport\u001b[0m \u001b[0mcontextily\u001b[0m \u001b[1;32mas\u001b[0m \u001b[0mctx\u001b[0m\u001b[1;33m\u001b[0m\u001b[1;33m\u001b[0m\u001b[0m\n\u001b[0m\u001b[0;32m     10\u001b[0m \u001b[1;32mimport\u001b[0m \u001b[0mseaborn\u001b[0m \u001b[1;32mas\u001b[0m \u001b[0msns\u001b[0m\u001b[1;33m\u001b[0m\u001b[1;33m\u001b[0m\u001b[0m\n\u001b[0;32m     11\u001b[0m \u001b[1;32mimport\u001b[0m \u001b[0mmatplotlib\u001b[0m\u001b[1;33m.\u001b[0m\u001b[0mpyplot\u001b[0m \u001b[1;32mas\u001b[0m \u001b[0mplt\u001b[0m\u001b[1;33m\u001b[0m\u001b[1;33m\u001b[0m\u001b[0m\n",
      "\u001b[1;31mModuleNotFoundError\u001b[0m: No module named 'contextily'"
     ]
    }
   ],
   "source": [
    "# Import python core libraries\n",
    "import itertools\n",
    "\n",
    "# Import data processing libraries\n",
    "import numpy as np\n",
    "import pandas as pd\n",
    "\n",
    "# Import Visualization librairies\n",
    "import contextily as ctx\n",
    "import seaborn as sns\n",
    "import matplotlib.pyplot as plt\n",
    "\n",
    "# Import machine learning libraries\n",
    "from sklearn.model_selection import train_test_split"
   ]
  },
  {
   "cell_type": "code",
   "execution_count": 2,
   "metadata": {},
   "outputs": [],
   "source": [
    "# Set up magic commands\n",
    "%matplotlib inline\n",
    "%config Completer.use_jedi = False"
   ]
  },
  {
   "cell_type": "markdown",
   "metadata": {
    "id": "j1WFf7qqEi03",
    "tags": []
   },
   "source": [
    "***\n",
    "## Data Import"
   ]
  },
  {
   "cell_type": "code",
   "execution_count": 3,
   "metadata": {},
   "outputs": [],
   "source": [
    "# Import the train dataset\n",
    "train_df = pd.read_pickle(r'data/processed/train.pickle')\n",
    "\n",
    "# Import the test dataset\n",
    "test_df = pd.read_pickle(r'data/processed/test.pickle')\n",
    "\n",
    "# Import the sub train dataset\n",
    "train_sub_df = pd.read_pickle(r'data/processed/train_sub.pickle')\n",
    "\n",
    "# Import the sub test dataset\n",
    "test_sub_df = pd.read_pickle(r'data/processed/test_sub.pickle')\n",
    "\n",
    "# Import the weather forecasts dataset\n",
    "weather_df = pd.read_pickle(r'data/processed/weather.pickle')\n",
    "\n",
    "# Import the holidays dataset\n",
    "holidays_df = pd.read_pickle(r'data/processed/holidays.pickle')\n",
    "\n",
    "# Import the zones dataset\n",
    "zones_df = pd.read_pickle(r'data/processed/zones.pickle')"
   ]
  },
  {
   "cell_type": "markdown",
   "metadata": {},
   "source": [
    "***\n",
    "## Variables Import"
   ]
  },
  {
   "cell_type": "code",
   "execution_count": 4,
   "metadata": {},
   "outputs": [],
   "source": [
    "# List of boroughs\n",
    "boroughs = [\"EWR\", \"Queens\", \"Bronx\", \"Manhattan\", \"Staten Island\", \"Brooklyn\"]\n",
    "\n",
    "# List of week days\n",
    "weekdays = [\n",
    "    \"Monday\",\n",
    "    \"Tuesday\",\n",
    "    \"Wednesday\",\n",
    "    \"Thursday\",\n",
    "    \"Friday\",\n",
    "    \"Saturday\",\n",
    "    \"Sunday\",\n",
    "]\n",
    "\n",
    "# List of Holidays\n",
    "holidays_type = [\n",
    "    \"Not A Public Holiday\",\n",
    "    \"School Holiday\",\n",
    "    \"Government Holiday\",\n",
    "    \"Federal Holiday\",\n",
    "]"
   ]
  },
  {
   "cell_type": "markdown",
   "metadata": {
    "tags": []
   },
   "source": [
    "***\n",
    "## Functions import"
   ]
  },
  {
   "cell_type": "code",
   "execution_count": 5,
   "metadata": {},
   "outputs": [],
   "source": [
    "# Define a function that transform column headers to titles\n",
    "def to_title(data, sep=\"_\"):\n",
    "    return [s.replace(sep, \" \").title() for s in data]"
   ]
  },
  {
   "cell_type": "code",
   "execution_count": 6,
   "metadata": {},
   "outputs": [],
   "source": [
    "# Define a function that display a correlation heatmap\n",
    "def plot_corrmap(data, title=\"\", figsize=(20, 20), palette=\"YlGnBu_r\"):\n",
    "    # Create a figure with one column and row\n",
    "    fig, ax = plt.subplots(figsize=figsize)\n",
    "\n",
    "    # Generate the plot\n",
    "    sns.heatmap(\n",
    "        data,\n",
    "        ax=ax,\n",
    "        cmap=palette,\n",
    "        annot=True,\n",
    "        center=0,\n",
    "        square=True,\n",
    "        linewidths=0.5,\n",
    "        cbar_kws={\"shrink\": 0.5},\n",
    "    )\n",
    "\n",
    "    # Adjust the padding between and around subplots\n",
    "    fig.tight_layout(pad=0.5, w_pad=0.5)\n",
    "\n",
    "    # Add a title to the figure\n",
    "    plt.title(title.title(), fontsize=18, pad=15)\n",
    "\n",
    "    # Display the figure\n",
    "    plt.show()"
   ]
  },
  {
   "cell_type": "code",
   "execution_count": 7,
   "metadata": {},
   "outputs": [],
   "source": [
    "# Define a function that display a heatmap\n",
    "def plot_heatmap(\n",
    "    data,\n",
    "    xticks,\n",
    "    yticks,\n",
    "    xlabel,\n",
    "    ylabel,\n",
    "    title=\"\",\n",
    "    xlim=0,\n",
    "    figsize=(20, 5),\n",
    "    palette=\"YlGnBu_r\",\n",
    "):\n",
    "    # Create a figure with one column and row\n",
    "    fig, ax = plt.subplots(figsize=figsize)\n",
    "\n",
    "    # Generate the plot\n",
    "    sns.heatmap(data, ax=ax, xticklabels=xticks, yticklabels=yticks, cmap=palette)\n",
    "    ax.spines[\"top\"].set_visible(False)\n",
    "    ax.spines[\"right\"].set_visible(False)\n",
    "    ax.spines[\"left\"].set_visible(False)\n",
    "    ax.set_xticklabels(ax.get_xticklabels(), va=\"center\")\n",
    "    ax.set_yticklabels(ax.get_yticklabels(), va=\"center\")\n",
    "    ax.tick_params(labelsize=14)\n",
    "    ax.set_xlabel(xlabel, fontsize=16)\n",
    "    ax.set_ylabel(ylabel, fontsize=16)\n",
    "    ax.set_xlim(xlim)\n",
    "    ax.invert_yaxis()\n",
    "    ax.grid()\n",
    "\n",
    "    # Adjust the padding between and around subplots\n",
    "    fig.tight_layout(pad=0.5, w_pad=0.5)\n",
    "    \n",
    "    # Add a title to the figure\n",
    "    plt.title(title.title(), fontsize=18, pad=15)\n",
    "\n",
    "    # Display the figure\n",
    "    plt.show()"
   ]
  },
  {
   "cell_type": "code",
   "execution_count": 8,
   "metadata": {},
   "outputs": [],
   "source": [
    "# Define a function that display individual scatterplot\n",
    "def plot_scatterplot(\n",
    "    data,\n",
    "    x_var,\n",
    "    y_var,\n",
    "    xlabel,\n",
    "    ylabel,\n",
    "    title=\"\",\n",
    "    labels=None,\n",
    "    label_order=None,\n",
    "    legend=None,\n",
    "    figsize=(20, 5),\n",
    "    palette=\"YlGnBu\",\n",
    "):\n",
    "    # Create a figure with one column and row\n",
    "    fig, ax = plt.subplots(figsize=figsize)\n",
    "\n",
    "    # Generate the plot\n",
    "    if labels == None:\n",
    "        sns.scatterplot(x=x_var, y=y_var, data=data, ax=ax, palette=palette)\n",
    "    else:\n",
    "        sns.scatterplot(\n",
    "            x=x_var,\n",
    "            y=y_var,\n",
    "            hue=labels,\n",
    "            hue_order=label_order,\n",
    "            data=data,\n",
    "            ax=ax,\n",
    "            palette=palette,\n",
    "        )\n",
    "        ax.legend(title=legend)\n",
    "    ax.spines[\"top\"].set_visible(False)\n",
    "    ax.spines[\"right\"].set_visible(False)\n",
    "    ax.spines[\"left\"].set_visible(False)\n",
    "    ax.yaxis.set_ticks_position(\"none\")\n",
    "    ax.tick_params(labelsize=14)\n",
    "    ax.set_xlabel(xlabel, fontsize=16)\n",
    "    ax.set_ylabel(ylabel, fontsize=16)\n",
    "    ax.set_xscale('log')\n",
    "    ax.grid()\n",
    "    \n",
    "    # Adjust the padding between and around subplots\n",
    "    fig.tight_layout(pad=0.5, w_pad=0.5)\n",
    "    \n",
    "    # Add a title to the figure\n",
    "    plt.title(title.title(), fontsize=18, pad=15)\n",
    "\n",
    "    # Display the figure\n",
    "    plt.show()"
   ]
  },
  {
   "cell_type": "code",
   "execution_count": 9,
   "metadata": {},
   "outputs": [],
   "source": [
    "# Define a function that display individual barplot\n",
    "def plot_lineplot(\n",
    "    data,\n",
    "    x_var,\n",
    "    y_var,\n",
    "    xlabel,\n",
    "    ylabel,\n",
    "    title=\"\",\n",
    "    labels=None,\n",
    "    label_order=None,\n",
    "    legend=None,\n",
    "    figsize=(20, 5),\n",
    "    palette=\"YlGnBu\",\n",
    "    color=\"C0\"\n",
    "):\n",
    "    # Create a figure with one column and row\n",
    "    fig, ax = plt.subplots(figsize=figsize)\n",
    "\n",
    "    # Generate the plot\n",
    "    if labels == None:\n",
    "        sns.lineplot(\n",
    "            x=x_var,\n",
    "            y=y_var,\n",
    "            data=data,\n",
    "            ax=ax,\n",
    "            color=color,\n",
    "        )\n",
    "    else:\n",
    "        sns.lineplot(\n",
    "            x=x_var,\n",
    "            y=y_var,\n",
    "            hue=labels,\n",
    "            hue_order=label_order,\n",
    "            data=data,\n",
    "            ax=ax,\n",
    "            palette=palette,\n",
    "        )\n",
    "        ax.legend(title=legend)\n",
    "    ax.spines[\"top\"].set_visible(False)\n",
    "    ax.spines[\"right\"].set_visible(False)\n",
    "    ax.spines[\"left\"].set_visible(False)\n",
    "    ax.yaxis.set_ticks_position(\"none\")\n",
    "    ax.tick_params(labelsize=14)\n",
    "    ax.set_xlabel(xlabel, fontsize=16)\n",
    "    ax.set_ylabel(ylabel, fontsize=16)\n",
    "    ax.grid()\n",
    "\n",
    "    # Adjust the padding between and around subplots\n",
    "    fig.tight_layout(pad=0.5, w_pad=0.5)\n",
    "\n",
    "    # Add a title to the figure\n",
    "    plt.title(title.title(), fontsize=18, pad=15)\n",
    "    \n",
    "    # Display the figure\n",
    "    plt.show()"
   ]
  },
  {
   "cell_type": "code",
   "execution_count": 10,
   "metadata": {},
   "outputs": [],
   "source": [
    "# Define a function that display individual barplot\n",
    "def plot_barplot(\n",
    "    data,\n",
    "    x_var,\n",
    "    y_var,\n",
    "    xlabel,\n",
    "    ylabel,\n",
    "    title=\"\",\n",
    "    labels=None,\n",
    "    label_order=None,\n",
    "    legend=None,\n",
    "    figsize=(20, 5),\n",
    "    palette=\"YlGnBu\",\n",
    "):\n",
    "    # Create a figure with one column and row\n",
    "    fig, ax = plt.subplots(figsize=figsize)\n",
    "\n",
    "    # Generate the plot\n",
    "    if labels == None:\n",
    "        sns.barplot(\n",
    "            x=x_var,\n",
    "            y=y_var,\n",
    "            data=data,\n",
    "            ax=ax,\n",
    "            palette=palette,\n",
    "        )\n",
    "    else:\n",
    "        sns.barplot(\n",
    "            x=x_var,\n",
    "            y=y_var,\n",
    "            hue=labels,\n",
    "            hue_order=label_order,\n",
    "            data=data,\n",
    "            ax=ax,\n",
    "            palette=palette,\n",
    "        )\n",
    "        ax.legend(title=legend)\n",
    "    ax.spines[\"top\"].set_visible(False)\n",
    "    ax.spines[\"right\"].set_visible(False)\n",
    "    ax.spines[\"left\"].set_visible(False)\n",
    "    ax.yaxis.set_ticks_position(\"none\")\n",
    "    ax.tick_params(labelsize=14)\n",
    "    ax.set_xlabel(xlabel, fontsize=16)\n",
    "    ax.set_ylabel(ylabel, fontsize=16)\n",
    "    ax.grid()\n",
    "\n",
    "    # Adjust the padding between and around subplots\n",
    "    fig.tight_layout(pad=0.5, w_pad=0.5)\n",
    "\n",
    "    # Add a title to the figure\n",
    "    plt.title(title.title(), fontsize=18, pad=15)\n",
    "    \n",
    "    # Display the figure\n",
    "    plt.show()"
   ]
  },
  {
   "cell_type": "code",
   "execution_count": 11,
   "metadata": {},
   "outputs": [],
   "source": [
    "# Define a function that display individual barplot\n",
    "def plot_boxplot(\n",
    "    data,\n",
    "    x_var,\n",
    "    y_var,\n",
    "    xlabel,\n",
    "    ylabel,\n",
    "    title=\"\",\n",
    "    figsize=(20, 5),\n",
    "    palette=\"YlGnBu\",\n",
    "):\n",
    "    # Create a figure with one column and row\n",
    "    fig, ax = plt.subplots(figsize=figsize)\n",
    "\n",
    "    # Generate the plot\n",
    "    sns.boxplot(\n",
    "        x=x_var,\n",
    "        y=y_var,\n",
    "        data=data,\n",
    "        ax=ax,\n",
    "        width=0.5,\n",
    "        linewidth=0.75,\n",
    "        palette=palette,\n",
    "    )\n",
    "    ax.spines[\"top\"].set_visible(False)\n",
    "    ax.spines[\"right\"].set_visible(False)\n",
    "    ax.spines[\"left\"].set_visible(False)\n",
    "    ax.yaxis.set_ticks_position(\"none\")\n",
    "    ax.tick_params(labelsize=14)\n",
    "    ax.set_xlabel(xlabel, fontsize=16)\n",
    "    ax.set_ylabel(ylabel, fontsize=16)\n",
    "    ax.grid()\n",
    "\n",
    "    # Adjust the padding between and around subplots\n",
    "    fig.tight_layout(pad=0.5, w_pad=0.5)\n",
    "\n",
    "    # Add a title to the figure\n",
    "    plt.title(title.title(), fontsize=18, pad=15)\n",
    "    \n",
    "    # Display the figure\n",
    "    plt.show()"
   ]
  },
  {
   "cell_type": "code",
   "execution_count": 12,
   "metadata": {},
   "outputs": [],
   "source": [
    "def plot_clockhist(\n",
    "    data,\n",
    "    columns,\n",
    "    colnames,\n",
    "    title,\n",
    "    ylim,\n",
    "    yticks,\n",
    "    yticklabels,\n",
    "    nrows=1,\n",
    "    ncols=1,\n",
    "    palette=\"YlGnBu\",\n",
    "):\n",
    "\n",
    "    # Get the color palette\n",
    "    cpal = itertools.cycle(sns.color_palette(palette, len(columns)))\n",
    "\n",
    "    # Create a figure with n columns and rows\n",
    "    fig, axes = plt.subplots(\n",
    "        ncols=ncols,\n",
    "        nrows=nrows,\n",
    "        figsize=(5 * ncols, 5 * nrows),\n",
    "        subplot_kw=dict(projection=\"polar\"),\n",
    "    )\n",
    "\n",
    "    # Flatten axes for 2D figures\n",
    "    if ncols > 1 and nrows > 1:\n",
    "        axes = axes.ravel()\n",
    "\n",
    "    # Disable all axes\n",
    "    for ax in axes:\n",
    "        ax.set_axis_off()\n",
    "\n",
    "    # Define theta for 24 hours\n",
    "    theta = np.linspace(0, 2 * np.pi, 24, endpoint=False)\n",
    "\n",
    "    # Define the width of each bin\n",
    "    width = np.divide(np.multiply(2, np.pi), 24)\n",
    "\n",
    "    # Generate the plots\n",
    "    for ax, col, colname, color in zip(axes, columns, colnames, cpal):\n",
    "        ax.bar(\n",
    "            theta,\n",
    "            data[col],\n",
    "            width=width,\n",
    "            align=\"edge\",\n",
    "            linewidth=0.25,\n",
    "            color=color,\n",
    "            edgecolor=\"dimgrey\",\n",
    "        )\n",
    "        ax.set_theta_direction(-1)\n",
    "        ax.set_theta_zero_location(\"N\")\n",
    "        ax.set_ylim(0, ylim)\n",
    "        ax.set_xticks(np.linspace(0, 2 * np.pi, 8, endpoint=False))\n",
    "        ax.set_yticks(yticks)\n",
    "        ax.set_xticklabels(\n",
    "            [f\"{x}:00\" for x in np.arange(0, 24, 3)],\n",
    "            rotation=\"vertical\",\n",
    "            fontsize=12,\n",
    "        )\n",
    "        ax.set_yticklabels(\n",
    "            yticklabels, rotation=\"vertical\", fontsize=12\n",
    "        )\n",
    "        ax.set_title(colname, fontsize=16)\n",
    "        ax.set_axis_on()\n",
    "\n",
    "    # Adjust the padding between and around subplots\n",
    "    fig.tight_layout(pad=1, w_pad=1)\n",
    "\n",
    "    # Adding a title to the plot\n",
    "    plt.suptitle(title.title(), y=1.10, fontsize=18)\n",
    "\n",
    "    # Display the plot\n",
    "    plt.show()"
   ]
  },
  {
   "cell_type": "code",
   "execution_count": 13,
   "metadata": {},
   "outputs": [],
   "source": [
    "def plot_map(\n",
    "    data,\n",
    "    columns,\n",
    "    colnames,\n",
    "    nrows=1,\n",
    "    ncols=1,\n",
    "    legend=True,\n",
    "    figsize=(20, 5),\n",
    "    palette=\"YlGnBu_r\",\n",
    "):\n",
    "    # Creat a figure with n rows and one columns\n",
    "    fig, axes = plt.subplots(\n",
    "        nrows=nrows,\n",
    "        ncols=ncols,\n",
    "        figsize=figsize,\n",
    "        constrained_layout=True,\n",
    "        sharex=True,\n",
    "        sharey=True,\n",
    "        subplot_kw=dict(aspect=\"equal\"),\n",
    "    )\n",
    "\n",
    "    # Get the min from selected columns in the data frame\n",
    "    vmin = np.min([data[c].min() for c in columns])\n",
    "\n",
    "    # Get the max from selected columns in the data frame\n",
    "    vmax = np.max([data[c].max() for c in columns])\n",
    "\n",
    "    # Flatten axes for 2D figures\n",
    "    if ncols > 1 and nrows > 1:\n",
    "        axes = axes.ravel()\n",
    "\n",
    "    # Disable all axes\n",
    "    for ax in axes:\n",
    "        ax.set_axis_off()\n",
    "\n",
    "    # Generate the plots\n",
    "    for ax, col, colname in zip(axes, columns, colnames):\n",
    "        plot = data.plot(\n",
    "            column=col,\n",
    "            ax=ax,\n",
    "            alpha=0.33,\n",
    "            cmap=sns.color_palette(palette, as_cmap=True),\n",
    "            edgecolor=\"k\",\n",
    "            linewidth=0.33,\n",
    "            vmin=vmin,\n",
    "            vmax=vmax,\n",
    "        )\n",
    "        ax.set_title(colname.title(), fontsize=18, pad=15)\n",
    "\n",
    "        # Add a base map of New York City\n",
    "        ctx.add_basemap(ax, source=ctx.providers.Stamen.TonerLite)\n",
    "\n",
    "    # assume it's the first (and only) mappable\n",
    "    cb = fig.colorbar(\n",
    "        axes[0].collections[0],\n",
    "        ax=axes,\n",
    "        shrink=0.5,\n",
    "        orientation=\"horizontal\",\n",
    "    )\n",
    "\n",
    "    # Display the plot\n",
    "    plt.show()"
   ]
  },
  {
   "cell_type": "markdown",
   "metadata": {
    "tags": []
   },
   "source": [
    "***\n",
    "## 2.2 Exploratory Data Analysis: External Datasets\n",
    "## 2.2.1 External Dataset: Temporal Analysis of Weather Data \n",
    "### Goal:\n",
    "Detect and describe patterns, trends, and relationships among temporal features in a subset (1%) of the 2018 NYC yellow cab trip dataset to identify weather variables that may impact traffic flow, and thus trip duration, in and around New York City.\n",
    "### Code:"
   ]
  },
  {
   "cell_type": "markdown",
   "metadata": {
    "jp-MarkdownHeadingCollapsed": true,
    "tags": []
   },
   "source": [
    "### Weather Data: Average Temperature"
   ]
  },
  {
   "cell_type": "code",
   "execution_count": null,
   "metadata": {},
   "outputs": [],
   "source": [
    "# Display a lineplot of average temperature vs day of year\n",
    "plot_lineplot(\n",
    "    weather_df,\n",
    "    x_var=\"date\",\n",
    "    y_var=\"avg_temp_lvl\",\n",
    "    xlabel=\"Date\",\n",
    "    ylabel=\"Average Temperature Level\",\n",
    "    title=\"Average temperature levels in 2018\"\n",
    ")"
   ]
  },
  {
   "cell_type": "markdown",
   "metadata": {},
   "source": [
    "**Notes:** The line graph above shows the average temperature as a function of date. The hottest days are observed in the summer, while average and low temperatures are observed in the shoulder seasons. The lowest temperatures, on the other hand, are observed only a few days or weeks per year, mainly in January and February. The impact of average temperature on the distance, time and speed of daily taxi trips will be examined below."
   ]
  },
  {
   "cell_type": "code",
   "execution_count": null,
   "metadata": {},
   "outputs": [],
   "source": [
    "# Add a weekday column to the data frame\n",
    "weather_df[\"weekday\"] = weather_df[\"date\"].dt.dayofweek\n",
    "\n",
    "# Group the weather data by weekday and average temperature levels\n",
    "# Compute the number days with specific average temperatures levels\n",
    "weather_count_temp = (\n",
    "    weather_df.groupby([\"weekday\", \"avg_temp_lvl\"]).size().to_frame(\"count\").reset_index()\n",
    ")\n",
    "\n",
    "# Replace numerical values by the name of the categories\n",
    "weather_count_temp[\"avg_temp_lvl\"] = weather_count_temp[\"avg_temp_lvl\"].map(\n",
    "    dict(zip(np.arange(0, 4), [\"Very Low (n=0)\", \"Low (n=1)\", \"Medium (n=2)\", \"High (n=3)\"]))\n",
    ")\n",
    "\n",
    "# Replace numerical values by the name of the categories\n",
    "weather_count_temp[\"weekday\"] = weather_count_temp[\"weekday\"].map(\n",
    "    dict(zip(np.arange(0, 7), weekdays))\n",
    ")\n",
    "\n",
    "# Display a barplot of sum of year days week days vs temperature levels for all weekdays\n",
    "plot_barplot(\n",
    "    weather_count_temp,\n",
    "    x_var=\"avg_temp_lvl\",\n",
    "    y_var=\"count\",\n",
    "    labels=\"weekday\",\n",
    "    xlabel=\"Day of Week\",\n",
    "    ylabel=\"Sum of Year Days\",\n",
    "    title=\"sum of year days week days vs temperature levels\"\n",
    ")"
   ]
  },
  {
   "cell_type": "markdown",
   "metadata": {},
   "source": [
    "**Note:** The barplot above shows the sum of days in the year that fall into one of the average temperature category. Although much rarer than the low to high temperature days, days with very low temperature still  encompass all days of the week with more or less the same frequency. This is noteworthy since the number of taxi trips, their distance, duration, and speed are all highly dependent on the day of the week and hour of the day."
   ]
  },
  {
   "cell_type": "code",
   "execution_count": null,
   "metadata": {},
   "outputs": [],
   "source": [
    "# Group taxi trips by pickup year-day, week-day, hour, and average temperature\n",
    "# Compute the number of daily trip\n",
    "pickup_count_temp = (\n",
    "    train_df.groupby([\"pickup_yearday\", \"pickup_weekday\", \"pickup_hour\", \"avg_temp_lvl\"])\n",
    "    .size()\n",
    "    .to_frame(\"count\")\n",
    "    .reset_index()\n",
    ")\n",
    "\n",
    "# Replace zero counts with NaN to prevent lowering the average.\n",
    "pickup_count_temp[\"count\"].replace(0, np.nan, inplace=True)\n",
    "\n",
    "# Replace numerical values by the name of the categories\n",
    "pickup_count_temp[\"avg_temp_lvl\"] = pickup_count_temp[\"avg_temp_lvl\"].map(\n",
    "    dict(zip(np.arange(0, 4), [\"Very Low\", \"Low\", \"Medium\", \"High\"]))\n",
    ")\n",
    "\n",
    "# Replace numerical values by the name of the categories\n",
    "pickup_count_temp[\"pickup_weekday\"] = pickup_count_temp[\"pickup_weekday\"].map(\n",
    "    dict(zip(np.arange(0, 7), weekdays))\n",
    ")\n",
    "\n",
    "# Display a boxplot of daily taxi trips vs average temperature levels\n",
    "plot_boxplot(\n",
    "    pickup_count_temp,\n",
    "    x_var=\"avg_temp_lvl\",\n",
    "    y_var=\"count\",\n",
    "    xlabel=\"Avg. Temperature Levels\",\n",
    "    ylabel=\"Daily Taxi Trips\",\n",
    "    title=\"daily taxi trips vs average temperature levels\"\n",
    ")"
   ]
  },
  {
   "cell_type": "markdown",
   "metadata": {},
   "source": [
    "**Notes:** The boxplot above show the average number of daily taxi trips for each average temperature level. The average number of daily rides is slightly lower for days with very low temperatures. This could suggest that the daily routines of New Yorkers change on  very cold days. It could also be an artifact, as these very cold days occur primarily in January and February."
   ]
  },
  {
   "cell_type": "code",
   "execution_count": null,
   "metadata": {},
   "outputs": [],
   "source": [
    "# Display a barplot of average daily taxi trips vs day of week for all average temperature levels\n",
    "plot_barplot(\n",
    "    pickup_count_temp,\n",
    "    x_var=\"pickup_weekday\",\n",
    "    y_var=\"count\",\n",
    "    labels=\"avg_temp_lvl\",\n",
    "    xlabel=\"Day of Week\",\n",
    "    ylabel=\"Daily Taxi Trips\",\n",
    "    legend=\"Avg. Temperature\",\n",
    "    title=\"average daily taxi trips vs day of week\"\n",
    ")"
   ]
  },
  {
   "cell_type": "markdown",
   "metadata": {},
   "source": [
    "**Notes:** The barplot above shows the average number of daily taxi trips for each day of the week and each average temperature level. The average number of daily trips is slightly lower for very low and high temperatures especially on Thursdays and Fridays, but the exact cause is not clear. In contrast, days with low temperature show a significant increase in daily taxi trips."
   ]
  },
  {
   "cell_type": "code",
   "execution_count": null,
   "metadata": {},
   "outputs": [],
   "source": [
    "# Display a barplot of average daily taxi trips vs hour of day for all average temperature levels\n",
    "plot_barplot(\n",
    "    pickup_count_temp,\n",
    "    x_var=\"pickup_hour\",\n",
    "    y_var=\"count\",\n",
    "    labels=\"avg_temp_lvl\",\n",
    "    xlabel=\"Time (Hour)\",\n",
    "    ylabel=\"Daily Taxi Trips\",\n",
    "    legend=\"Avg. Temperature\",\n",
    "    title=\"average daily taxi trips vs hour of day\"\n",
    ")"
   ]
  },
  {
   "cell_type": "markdown",
   "metadata": {},
   "source": [
    "**Notes:** The barplot above shows the average number of daily taxi trips for each hour of the day and each average temperature level. The average number of daily trips is slightly lower for very low and high temperature during the peak hours. The exact cause is not clear, yet high temperatures may encourage the use of alternative means of transportation such as walking and cycling."
   ]
  },
  {
   "cell_type": "code",
   "execution_count": null,
   "metadata": {},
   "outputs": [],
   "source": [
    "# Group taxi trips by pickup year-day, week-day, hour, and average temperature\n",
    "# Compute the number of daily trip\n",
    "pickup_count_temp_sub = (\n",
    "    train_sub_df.groupby(\n",
    "        [\"pickup_yearday\", \"pickup_weekday\", \"pickup_hour\", \"avg_temp_lvl\"]\n",
    "    )\n",
    "    .size()\n",
    "    .to_frame(\"count\")\n",
    "    .reset_index()\n",
    ")\n",
    "\n",
    "# Replace zero counts with NaN to prevent lowering the average.\n",
    "pickup_count_temp_sub[\"count\"].replace(0, np.nan, inplace=True)\n",
    "\n",
    "# Replace numerical values by the name of the categories\n",
    "pickup_count_temp_sub[\"avg_temp_lvl\"] = pickup_count_temp_sub[\"avg_temp_lvl\"].map(\n",
    "    dict(zip(np.arange(0, 4), [\"Very Low\", \"Low\", \"Medium\", \"High\"]))\n",
    ")\n",
    "\n",
    "# Replace numerical values by the name of the categories\n",
    "pickup_count_temp_sub[\"pickup_weekday\"] = pickup_count_temp_sub[\"pickup_weekday\"].map(\n",
    "    dict(zip(np.arange(0, 7), weekdays))\n",
    ")\n",
    "\n",
    "# Display a boxplot of daily taxi trips vs average temperature levels\n",
    "plot_boxplot(\n",
    "    pickup_count_temp_sub,\n",
    "    x_var=\"avg_temp_lvl\",\n",
    "    y_var=\"count\",\n",
    "    xlabel=\"Avg. Temperature Levels\",\n",
    "    ylabel=\"Daily Taxi Trips\",\n",
    "    title=\"daily taxi trips vs average temperature levels (subset)\",\n",
    "    palette=\"magma_r\",\n",
    ")"
   ]
  },
  {
   "cell_type": "markdown",
   "metadata": {},
   "source": [
    "**Notes:** The boxplot above show the average number of daily taxi trips for each average temperature level. In the taxi trips subset, the average number of daily rides is also slightly lower for days with very low temperatures in the taxi trip subset."
   ]
  },
  {
   "cell_type": "code",
   "execution_count": null,
   "metadata": {},
   "outputs": [],
   "source": [
    "# Display a barplot of average daily taxi trips vs day of week for all average temperature levels\n",
    "plot_barplot(\n",
    "    pickup_count_temp_sub,\n",
    "    x_var=\"pickup_weekday\",\n",
    "    y_var=\"count\",\n",
    "    labels=\"avg_temp_lvl\",\n",
    "    xlabel=\"Day of Week\",\n",
    "    ylabel=\"Daily Taxi Trips\",\n",
    "    legend=\"Avg. Temperature\",\n",
    "    title=\"average daily taxi trips vs day of week (subset)\",\n",
    "    palette=\"magma_r\",\n",
    ")"
   ]
  },
  {
   "cell_type": "markdown",
   "metadata": {},
   "source": [
    "**Notes:** The barplot above shows the average number of daily taxi trips for each day of the week and each average temperature level. In the taxi trips subset, the average number of daily trips is also slightly lower for very low and high temperatures especially on Thursdays and Fridays, but slightly higer for a few weekdays with low temperature."
   ]
  },
  {
   "cell_type": "code",
   "execution_count": null,
   "metadata": {},
   "outputs": [],
   "source": [
    "# Display a barplot of average daily taxi trips vs hour of day for all average temperature levels\n",
    "plot_barplot(\n",
    "    pickup_count_temp_sub,\n",
    "    x_var=\"pickup_hour\",\n",
    "    y_var=\"count\",\n",
    "    labels=\"avg_temp_lvl\",\n",
    "    xlabel=\"Time (Hour)\",\n",
    "    ylabel=\"Daily Taxi Trips\",\n",
    "    legend=\"Avg. Temperature\",\n",
    "    title=\"average daily taxi trips vs hour of day (subset)\",\n",
    "    palette=\"magma_r\",\n",
    ")"
   ]
  },
  {
   "cell_type": "markdown",
   "metadata": {},
   "source": [
    "**Notes:** The barplot above shows the average number of daily taxi trips for each hour of the day and each average temperature level. In the taxi trips subset, the average number of daily trips is marginally lower for very low temperature early morning in the taxi trip subset."
   ]
  },
  {
   "cell_type": "code",
   "execution_count": null,
   "metadata": {},
   "outputs": [],
   "source": [
    "# Group taxi trips by pickup year-day, week-day, hour, and average temperature levels\n",
    "# Compute the mean of trip distances and durations\n",
    "pickup_avg_temp_lvl = (\n",
    "    train_df.groupby([\"pickup_yearday\", \"pickup_weekday\", \"pickup_hour\", \"avg_temp_lvl\"])\n",
    "    .agg({\"trip_distance\": np.mean, \"trip_duration\": np.mean})\n",
    "    .reset_index()\n",
    ")\n",
    "\n",
    "# Compute the average trip speed\n",
    "pickup_avg_temp_lvl[\"trip_speed\"] = np.divide(\n",
    "    pickup_avg_temp_lvl[\"trip_distance\"], np.divide(pickup_avg_temp_lvl[\"trip_duration\"], 60)\n",
    ")\n",
    "\n",
    "# Replace numerical values by the name of the categories\n",
    "pickup_avg_temp_lvl[\"avg_temp_lvl\"] = pickup_avg_temp_lvl[\"avg_temp_lvl\"].map(\n",
    "    dict(zip(np.arange(0, 4), [\"Very Low\", \"Low\", \"Medium\", \"High\"]))\n",
    ")\n",
    "\n",
    "# Replace numerical values by the name of the categories\n",
    "pickup_avg_temp_lvl[\"pickup_weekday\"] = pickup_avg_temp_lvl[\"pickup_weekday\"].map(\n",
    "    dict(zip(np.arange(0, 7), weekdays))\n",
    ")\n",
    "\n",
    "# Display descriptive statistics of selected columns\n",
    "pickup_avg_temp_lvl[[\"trip_distance\", \"trip_duration\", \"trip_speed\"]].describe()"
   ]
  },
  {
   "cell_type": "code",
   "execution_count": null,
   "metadata": {},
   "outputs": [],
   "source": [
    "# Group taxi trips by pickup year-day, week-day, hour, and average temperature levels\n",
    "# Compute the mean of trip distances and durations\n",
    "pickup_avg_temp_lvl_sub = (\n",
    "    train_sub_df.groupby([\"pickup_yearday\", \"pickup_weekday\", \"pickup_hour\", \"avg_temp_lvl\"])\n",
    "    .agg({\"trip_distance\": np.mean, \"trip_duration\": np.mean})\n",
    "    .reset_index()\n",
    ")\n",
    "\n",
    "# Compute the average trip speed\n",
    "pickup_avg_temp_lvl_sub[\"trip_speed\"] = np.divide(\n",
    "    pickup_avg_temp_lvl_sub[\"trip_distance\"], np.divide(pickup_avg_temp_lvl_sub[\"trip_duration\"], 60)\n",
    ")\n",
    "\n",
    "# Replace numerical values by the name of the categories\n",
    "pickup_avg_temp_lvl_sub[\"avg_temp_lvl\"] = pickup_avg_temp_lvl_sub[\"avg_temp_lvl\"].map(\n",
    "    dict(zip(np.arange(0, 4), [\"Very Low\", \"Low\", \"Medium\", \"High\"]))\n",
    ")\n",
    "\n",
    "# Replace numerical values by the name of the categories\n",
    "pickup_avg_temp_lvl_sub[\"pickup_weekday\"] = pickup_avg_temp_lvl_sub[\"pickup_weekday\"].map(\n",
    "    dict(zip(np.arange(0, 7), weekdays))\n",
    ")\n",
    "\n",
    "# Display descriptive statistics of selected columns\n",
    "pickup_avg_temp_lvl_sub[[\"trip_distance\", \"trip_duration\", \"trip_speed\"]].describe()"
   ]
  },
  {
   "cell_type": "code",
   "execution_count": null,
   "metadata": {},
   "outputs": [],
   "source": [
    "# Display a boxplot of average trip distance vs average temperature levels\n",
    "plot_boxplot(\n",
    "    pickup_avg_temp_lvl,\n",
    "    x_var=\"avg_temp_lvl\",\n",
    "    y_var=\"trip_distance\",\n",
    "    xlabel=\"Avg. Temperature Levels\",\n",
    "    ylabel=\"Average Distance (Km)\",\n",
    "    title=\"average trip distance vs average temperature levels\",\n",
    ")"
   ]
  },
  {
   "cell_type": "markdown",
   "metadata": {},
   "source": [
    "**Notes:** the boxplot above shows the average daily distance traveled for each average temperature level. No significant difference could be observed between these different levels."
   ]
  },
  {
   "cell_type": "code",
   "execution_count": null,
   "metadata": {},
   "outputs": [],
   "source": [
    "# Display a boxplot of average trip duration vs average temperature levels\n",
    "plot_boxplot(\n",
    "    pickup_avg_temp_lvl,\n",
    "    x_var=\"avg_temp_lvl\",\n",
    "    y_var=\"trip_duration\",\n",
    "    xlabel=\"Avg. Temperature Levels\",\n",
    "    ylabel=\"Average Duration (Min)\",\n",
    "    title=\"average trip duration vs average temperature levels\",\n",
    ")"
   ]
  },
  {
   "cell_type": "markdown",
   "metadata": {},
   "source": [
    "**Notes:** the boxplot above shows the average daily travel duration for each average temperature level. No significant difference could be observed between these different levels, yet the average travel duration appears to be marginally lower for very low temperatures."
   ]
  },
  {
   "cell_type": "code",
   "execution_count": null,
   "metadata": {},
   "outputs": [],
   "source": [
    "# Display a boxplot of average trip speed vs average temperature levels\n",
    "plot_boxplot(\n",
    "    pickup_avg_temp_lvl,\n",
    "    x_var=\"avg_temp_lvl\",\n",
    "    y_var=\"trip_speed\",\n",
    "    xlabel=\"Avg. Temperature Levels\",\n",
    "    ylabel=\"Average Speed (Km/h)\",\n",
    "    title=\"average trip speed vs average temperature levels\",\n",
    ")"
   ]
  },
  {
   "cell_type": "markdown",
   "metadata": {},
   "source": [
    "**Notes:** the boxplot above shows the average daily travel speed for each average temperature level. No significant difference could be observed between these different levels, yet the average travel speed appears to be marginally higher for very low temperatures."
   ]
  },
  {
   "cell_type": "code",
   "execution_count": null,
   "metadata": {},
   "outputs": [],
   "source": [
    "# Display a boxplot of average trip duration vs average temperature levels\n",
    "plot_boxplot(\n",
    "    pickup_avg_temp_lvl_sub,\n",
    "    x_var=\"avg_temp_lvl\",\n",
    "    y_var=\"trip_duration\",\n",
    "    xlabel=\"Avg. Temperature Levels\",\n",
    "    ylabel=\"Average Duration (Min)\",\n",
    "    title=\"average trip duration vs average temperature levels (subset)\",\n",
    "    palette=\"magma\",\n",
    ")"
   ]
  },
  {
   "cell_type": "markdown",
   "metadata": {},
   "source": [
    "**Notes:** the boxplot above shows the average daily travel duration for each average temperature level. In the taxi trips subset, no significant difference could be observed between these different levels, yet the average travel duration appears to be marginally lower for very low temperatures."
   ]
  },
  {
   "cell_type": "code",
   "execution_count": null,
   "metadata": {},
   "outputs": [],
   "source": [
    "# Display a boxplot of average trip speed vs average temperature levels\n",
    "plot_boxplot(\n",
    "    pickup_avg_temp_lvl_sub,\n",
    "    x_var=\"avg_temp_lvl\",\n",
    "    y_var=\"trip_speed\",\n",
    "    xlabel=\"Avg. Temperature Levels\",\n",
    "    ylabel=\"Average Speed (Km/h)\",\n",
    "    title=\"average trip speed vs average temperature levels (subset)\",\n",
    "    palette=\"magma\",\n",
    ")"
   ]
  },
  {
   "cell_type": "markdown",
   "metadata": {},
   "source": [
    "**Notes:** the boxplot above shows the average daily travel duration for each average temperature level. In the taxi trips subset, no significant difference could be observed between these different levels."
   ]
  },
  {
   "cell_type": "code",
   "execution_count": null,
   "metadata": {},
   "outputs": [],
   "source": [
    "# Display a barplot of average trip distance vs day of week for all average temperature levels\n",
    "plot_barplot(\n",
    "    pickup_avg_temp_lvl,\n",
    "    x_var=\"pickup_weekday\",\n",
    "    y_var=\"trip_distance\",\n",
    "    labels=\"avg_temp_lvl\",\n",
    "    xlabel=\"Day of Week\",\n",
    "    ylabel=\"Average Distance (Km)\",\n",
    "    legend=\"Avg. Temperature\",\n",
    "    title=\"average trip distance vs day of week\",\n",
    ")"
   ]
  },
  {
   "cell_type": "markdown",
   "metadata": {},
   "source": [
    "**Notes:** the barplot above shows the average daily travel duration for each average temperature level. No major or minor difference could be observed between these different levels."
   ]
  },
  {
   "cell_type": "code",
   "execution_count": null,
   "metadata": {},
   "outputs": [],
   "source": [
    "# Display a barplot of average trip duration vs day of week for all average temperature levels\n",
    "plot_barplot(\n",
    "    pickup_avg_temp_lvl,\n",
    "    x_var=\"pickup_weekday\",\n",
    "    y_var=\"trip_duration\",\n",
    "    labels=\"avg_temp_lvl\",\n",
    "    xlabel=\"Day of Week\",\n",
    "    ylabel=\"Average Duration (Min)\",\n",
    "    legend=\"Avg. Temperature\",\n",
    "    title=\"average trip duration vs day of week\",\n",
    ")"
   ]
  },
  {
   "cell_type": "markdown",
   "metadata": {},
   "source": [
    "**Notes:** the barplot above shows the average daily travel duration for each day of the week and average temperature level. No significant difference could be observed between these different temperature levels, yet the average travel duration appears to be marginally lower for very low temperatures for most day of the week."
   ]
  },
  {
   "cell_type": "code",
   "execution_count": null,
   "metadata": {},
   "outputs": [],
   "source": [
    "# Display a barplot of average trip speed vs day of week for all average temperature levels\n",
    "plot_barplot(\n",
    "    pickup_avg_temp_lvl,\n",
    "    x_var=\"pickup_weekday\",\n",
    "    y_var=\"trip_speed\",\n",
    "    labels=\"avg_temp_lvl\",\n",
    "    xlabel=\"Day of Week\",\n",
    "    ylabel=\"Average speed (Km/h)\",\n",
    "    legend=\"Avg. Temperature\",\n",
    "    title=\"average trip speed vs day of week\",\n",
    ")"
   ]
  },
  {
   "cell_type": "markdown",
   "metadata": {},
   "source": [
    "**Notes:** the barplot above shows the average daily travel speed for each day of the week and average temperature levels. No significant difference could be observed between these different temperature levels, yet the average travel speed appears to be marginally higher for very low temperatures for most day of the week."
   ]
  },
  {
   "cell_type": "code",
   "execution_count": null,
   "metadata": {},
   "outputs": [],
   "source": [
    "# Display a barplot of average trip duration vs day of week for all average temperature levels\n",
    "plot_barplot(\n",
    "    pickup_avg_temp_lvl_sub,\n",
    "    x_var=\"pickup_weekday\",\n",
    "    y_var=\"trip_duration\",\n",
    "    labels=\"avg_temp_lvl\",\n",
    "    xlabel=\"Day of Week\",\n",
    "    ylabel=\"Average Duration (Min)\",\n",
    "    legend=\"Avg. Temperature\",\n",
    "    title=\"average trip duration vs day of week (subset)\",\n",
    "    palette=\"magma\",\n",
    ")"
   ]
  },
  {
   "cell_type": "markdown",
   "metadata": {},
   "source": [
    "**Notes:** the barplot above shows the average daily travel duration for each day of the week and average temperature level. In the taxi trips subset, the average travel duration also appears to be lower for very low temperatures for most day of the week. Very low average temperature thus affect traffic on a global and more localised scale."
   ]
  },
  {
   "cell_type": "code",
   "execution_count": null,
   "metadata": {},
   "outputs": [],
   "source": [
    "# Display a barplot of average trip speed vs day of week for all average temperature levels\n",
    "plot_barplot(\n",
    "    pickup_avg_temp_lvl_sub,\n",
    "    x_var=\"pickup_weekday\",\n",
    "    y_var=\"trip_speed\",\n",
    "    labels=\"avg_temp_lvl\",\n",
    "    xlabel=\"Day of Week\",\n",
    "    ylabel=\"Average speed (Km/h)\",\n",
    "    legend=\"Avg. Temperature\",\n",
    "    title=\"average trip speed vs day of week (subset)\",\n",
    "    palette=\"magma\",\n",
    ")"
   ]
  },
  {
   "cell_type": "markdown",
   "metadata": {},
   "source": [
    "**Notes:** the barplot above shows the average daily travel speed for each day of the week and average temperature levels. In the taxi trips subset, the average travel speed also appears to be higher for very low temperatures for most day of the week."
   ]
  },
  {
   "cell_type": "code",
   "execution_count": null,
   "metadata": {},
   "outputs": [],
   "source": [
    "# Display a lineplot of average trip distance vs hour of day for all average temperature levels\n",
    "plot_lineplot(\n",
    "    pickup_avg_temp_lvl,\n",
    "    x_var=\"pickup_hour\",\n",
    "    y_var=\"trip_distance\",\n",
    "    labels=\"avg_temp_lvl\",\n",
    "    xlabel=\"Time (Hour)\",\n",
    "    ylabel=\"Average Distance (Km)\",\n",
    "    legend=\"Avg. Temperature\",\n",
    "    title=\"average trip distance vs hour of day\",\n",
    ")"
   ]
  },
  {
   "cell_type": "markdown",
   "metadata": {},
   "source": [
    "**Notes:** the lineplot above shows the average daily distance traveled for each hour of the day and average temperature level. No difference could be observed between these different levels, indicating that New Yorkers tend to maintain the same travel patterns regardless of temperature."
   ]
  },
  {
   "cell_type": "code",
   "execution_count": null,
   "metadata": {},
   "outputs": [],
   "source": [
    "# Display a lineplot of average trip duration vs hour of day for all average temperature levels\n",
    "plot_lineplot(\n",
    "    pickup_avg_temp_lvl,\n",
    "    x_var=\"pickup_hour\",\n",
    "    y_var=\"trip_duration\",\n",
    "    labels=\"avg_temp_lvl\",\n",
    "    xlabel=\"Time (Hour)\",\n",
    "    ylabel=\"Average Duration (Min)\",\n",
    "    legend=\"Avg. Temperature\",\n",
    "    title=\"average trip duration vs hour of day\",\n",
    ")"
   ]
  },
  {
   "cell_type": "markdown",
   "metadata": {},
   "source": [
    "**Notes:** The line plot above shows the average daily travel time for each hour of the day and average temperature level. The average travel time is lower during peak hours for days with very low temperatures. Knowing that no difference was found in travel time between each level, this could indicate that traffic is more fluid on very cold days. The exact causes are probably multiple and complex. We also cannot completely rule out the possibility that this observation is an artifact, as these cold days occur mainly in January and February."
   ]
  },
  {
   "cell_type": "code",
   "execution_count": null,
   "metadata": {},
   "outputs": [],
   "source": [
    "# Display a lineplot of average trip speed vs hour of day for all average temperature levels\n",
    "plot_lineplot(\n",
    "    pickup_avg_temp_lvl,\n",
    "    x_var=\"pickup_hour\",\n",
    "    y_var=\"trip_speed\",\n",
    "    labels=\"avg_temp_lvl\",\n",
    "    xlabel=\"Time (Hour)\",\n",
    "    ylabel=\"Average speed (Km/h)\",\n",
    "    legend=\"Avg. Temperature\",\n",
    "    title=\"average trip speed vs hour of day\",\n",
    ")"
   ]
  },
  {
   "cell_type": "markdown",
   "metadata": {},
   "source": [
    "**Notes:** the lineplot above shows the average daily travel speed for each hour of the day and average temperature levels. The average travel speed is marginally higher during peak hours for days with very low temperatures. As previously stated this could indicate that traffic is more fluid on very cold days, but the possibility that this observation is an artifact can also not be ruled out."
   ]
  },
  {
   "cell_type": "code",
   "execution_count": null,
   "metadata": {},
   "outputs": [],
   "source": [
    "# Display a lineplot of average trip duration vs hour of day for all average temperature levels\n",
    "plot_lineplot(\n",
    "    pickup_avg_temp_lvl_sub,\n",
    "    x_var=\"pickup_hour\",\n",
    "    y_var=\"trip_duration\",\n",
    "    labels=\"avg_temp_lvl\",\n",
    "    xlabel=\"Time (Hour)\",\n",
    "    ylabel=\"Average Duration (Min)\",\n",
    "    legend=\"Avg. Temperature\",\n",
    "    title=\"average trip duration vs hour of day (subset)\",\n",
    "    palette=\"magma_r\",\n",
    ")"
   ]
  },
  {
   "cell_type": "markdown",
   "metadata": {},
   "source": [
    "**Notes:** The line plot above shows the average daily travel time for each hour of the day and each average temperature level. In the taxi trips subset, the average travel time is lower during peak hours for days with very low temperatures. As noted previously, this indicates that traffic is probably more fluid on very cold days. However, we still cannot rule out the possibility that this observation is an artifact, as these cold days occur mainly in January and February."
   ]
  },
  {
   "cell_type": "code",
   "execution_count": null,
   "metadata": {},
   "outputs": [],
   "source": [
    "# Display a lineplot of average trip speed vs hour of day for all average temperature levels\n",
    "plot_lineplot(\n",
    "    pickup_avg_temp_lvl_sub,\n",
    "    x_var=\"pickup_hour\",\n",
    "    y_var=\"trip_speed\",\n",
    "    labels=\"avg_temp_lvl\",\n",
    "    xlabel=\"Time (Hour)\",\n",
    "    ylabel=\"Average speed (Km/h)\",\n",
    "    legend=\"Avg. Temperature\",\n",
    "    title=\"average trip speed vs hour of day (subset)\",\n",
    "    palette=\"magma_r\",\n",
    ")"
   ]
  },
  {
   "cell_type": "markdown",
   "metadata": {},
   "source": [
    "**Notes:** the lineplot above shows the average daily travel speed for each hour of the day and average temperature levels.  In the taxi trips subset, the average travel speed is also marginally higher during peak hours for days with very low temperatures."
   ]
  },
  {
   "cell_type": "markdown",
   "metadata": {
    "jp-MarkdownHeadingCollapsed": true,
    "tags": []
   },
   "source": [
    "### Weather Data: Precipitations"
   ]
  },
  {
   "cell_type": "code",
   "execution_count": null,
   "metadata": {},
   "outputs": [],
   "source": [
    "# Display a lineplot of precipitations vs day of year\n",
    "plot_lineplot(\n",
    "    weather_df,\n",
    "    x_var=\"date\",\n",
    "    y_var=\"wf_prec_lvl\",\n",
    "    xlabel=\"Date\",\n",
    "    ylabel=\"precipitations Level\",\n",
    "    title=\"precipitations levels in 2018\"\n",
    ")"
   ]
  },
  {
   "cell_type": "markdown",
   "metadata": {},
   "source": [
    "**Notes:** The line plot above shows the daily precipitations levels as a function of the date. The lowest precipitations levels occur frequently throughout the year, while the highest precipitations levels occur only on a few occasions. The impact of average temperature on the distance, time and speed of daily taxi trips will be discussed below."
   ]
  },
  {
   "cell_type": "code",
   "execution_count": null,
   "metadata": {},
   "outputs": [],
   "source": [
    "# Group the weather data by weekday and precipitations levels\n",
    "# Compute the number days with specific precipitations levels\n",
    "weather_count_wf_prec_lvl = (\n",
    "    weather_df.groupby([\"weekday\", \"wf_prec_lvl\"]).size().to_frame(\"count\").reset_index()\n",
    ").sort_values([\"wf_prec_lvl\", \"weekday\"])\n",
    "\n",
    "# Replace numerical values by the name of the categories\n",
    "weather_count_wf_prec_lvl[\"wf_prec_lvl\"] = weather_count_wf_prec_lvl[\"wf_prec_lvl\"].map(\n",
    "    dict(\n",
    "        zip(np.arange(0, 4), [\"None (n=0)\", \"Low (n=1)\", \"Medium (n=2)\", \"High (n=3)\"])\n",
    "    )\n",
    ")\n",
    "\n",
    "# Replace numerical values by the name of the categories\n",
    "weather_count_wf_prec_lvl[\"weekday\"] = weather_count_wf_prec_lvl[\"weekday\"].map(\n",
    "    dict(zip(np.arange(0, 7), weekdays))\n",
    ")\n",
    "\n",
    "# Display a barplot sum of year days vs precipitations levels for all week days\n",
    "plot_barplot(\n",
    "    weather_count_wf_prec_lvl,\n",
    "    x_var=\"wf_prec_lvl\",\n",
    "    y_var=\"count\",\n",
    "    labels=\"weekday\",\n",
    "    xlabel=\"Week Days\",\n",
    "    ylabel=\"Sum of Year Days\",\n",
    "    title=\"sum of year days vs precipitations levels\",\n",
    ")"
   ]
  },
  {
   "cell_type": "markdown",
   "metadata": {},
   "source": [
    "**Note:** The barplot above shows the sum of days in the year that fall into one of the daily precipitations cateogry. Although much less frequent than days with a low precipitations level, days with a medium wf_prec_lvlipiation level still encompass all days of the week with more or less the same frequency. However, days with a high precipitations level are rare and only emcompass a few week days. This is noteworthy since the number of taxi trips, their distance, duration, and speed are all highly dependent on the day of the week and hour of the day.\n",
    "\n",
    "**Warnings:** The results obtained for a high level of precipitations should be interpreted with caution."
   ]
  },
  {
   "cell_type": "code",
   "execution_count": null,
   "metadata": {},
   "outputs": [],
   "source": [
    "# Group taxi trips by pickup year-day, week-day, hour, and precipitations levels\n",
    "# Compute the number of daily trip\n",
    "pickup_count_wf_prec_lvl = (\n",
    "    train_df.groupby([\"pickup_yearday\", \"pickup_weekday\", \"pickup_hour\", \"wf_prec_lvl\"])\n",
    "    .size()\n",
    "    .to_frame(\"count\")\n",
    "    .reset_index()\n",
    ")\n",
    "\n",
    "# Replace zero counts with NaN to prevent lowering the average.\n",
    "pickup_count_wf_prec_lvl[\"count\"].replace(0, np.nan, inplace=True)\n",
    "\n",
    "# Replace numerical values by the name of the categories\n",
    "pickup_count_wf_prec_lvl[\"wf_prec_lvl\"] = pickup_count_wf_prec_lvl[\"wf_prec_lvl\"].map(\n",
    "    dict(zip(np.arange(0, 4), [\"None\", \"Low\", \"Medium\", \"High\"]))\n",
    ")\n",
    "\n",
    "# Replace numerical values by the name of the categories\n",
    "pickup_count_wf_prec_lvl[\"pickup_weekday\"] = pickup_count_wf_prec_lvl[\"pickup_weekday\"].map(\n",
    "    dict(zip(np.arange(0, 7), weekdays))\n",
    ")\n",
    "\n",
    "# Display the first five rows of the data frame\n",
    "pickup_count_wf_prec_lvl.head()"
   ]
  },
  {
   "cell_type": "code",
   "execution_count": null,
   "metadata": {},
   "outputs": [],
   "source": [
    "# Group taxi trips by pickup year-day, week-day, hour, and precipitations levels\n",
    "# Compute the number of daily trip\n",
    "pickup_count_wf_prec_lvl_sub = (\n",
    "    train_sub_df.groupby([\"pickup_yearday\", \"pickup_weekday\", \"pickup_hour\", \"wf_prec_lvl\"])\n",
    "    .size()\n",
    "    .to_frame(\"count\")\n",
    "    .reset_index()\n",
    ")\n",
    "\n",
    "# Replace zero counts with NaN to prevent lowering the average.\n",
    "pickup_count_wf_prec_lvl_sub[\"count\"].replace(0, np.nan, inplace=True)\n",
    "\n",
    "# Replace numerical values by the name of the categories\n",
    "pickup_count_wf_prec_lvl_sub[\"wf_prec_lvl\"] = pickup_count_wf_prec_lvl_sub[\"wf_prec_lvl\"].map(\n",
    "    dict(zip(np.arange(0, 4), [\"None\", \"Low\", \"Medium\", \"High\"]))\n",
    ")\n",
    "\n",
    "# Replace numerical values by the name of the categories\n",
    "pickup_count_wf_prec_lvl_sub[\"pickup_weekday\"] = pickup_count_wf_prec_lvl_sub[\"pickup_weekday\"].map(\n",
    "    dict(zip(np.arange(0, 7), weekdays))\n",
    ")\n",
    "\n",
    "# Display the first five rows of the data frame\n",
    "pickup_count_wf_prec_lvl_sub.head()"
   ]
  },
  {
   "cell_type": "code",
   "execution_count": null,
   "metadata": {},
   "outputs": [],
   "source": [
    "# Display a boxplot of daily taxi trips vs precipitations levels\n",
    "plot_boxplot(\n",
    "    pickup_count_wf_prec_lvl,\n",
    "    x_var=\"wf_prec_lvl\",\n",
    "    y_var=\"count\",\n",
    "    xlabel=\"precipitations Levels\",\n",
    "    ylabel=\"Daily Taxi Trips\",\n",
    "    title=\"daily taxi trips vs precipitations levels\",\n",
    ")"
   ]
  },
  {
   "cell_type": "markdown",
   "metadata": {},
   "source": [
    "**Notes:** The boxplot above show the average number of daily taxi trips for each precipitations level. No clear difference can be observed between the different precipitations levels."
   ]
  },
  {
   "cell_type": "code",
   "execution_count": null,
   "metadata": {},
   "outputs": [],
   "source": [
    "# Display a barplot of average daily taxi trips vs day of week for all precipitations levels\n",
    "plot_barplot(\n",
    "    pickup_count_wf_prec_lvl,\n",
    "    x_var=\"pickup_weekday\",\n",
    "    y_var=\"count\",\n",
    "    labels=\"wf_prec_lvl\",\n",
    "    xlabel=\"Day of Week\",\n",
    "    ylabel=\"Daily Taxi Trips\",\n",
    "    legend=\"precipitations\",\n",
    "    title=\"average daily taxi trips vs day of week\",\n",
    ")"
   ]
  },
  {
   "cell_type": "markdown",
   "metadata": {},
   "source": [
    "**Notes:** The barplot above shows the average number of daily taxi trips for each day of the week and each precipitations level. No clear difference can be observed between the different precipitations levels."
   ]
  },
  {
   "cell_type": "code",
   "execution_count": null,
   "metadata": {},
   "outputs": [],
   "source": [
    "# Display a barplot of average daily taxi trips vs hour of day for all precipitations levels\n",
    "plot_barplot(\n",
    "    pickup_count_wf_prec_lvl,\n",
    "    x_var=\"pickup_hour\",\n",
    "    y_var=\"count\",\n",
    "    labels=\"wf_prec_lvl\",\n",
    "    xlabel=\"Time (Hour)\",\n",
    "    ylabel=\"Daily Taxi Trips\",\n",
    "    legend=\"precipitations\",\n",
    "    title=\"average daily taxi trips vs hour of day\",\n",
    ")"
   ]
  },
  {
   "cell_type": "markdown",
   "metadata": {},
   "source": [
    "**Notes:** The barplot above shows the average number of daily taxi trips for each hour of the day and each precipitations level. No clear difference can be observed between the different precipitations levels."
   ]
  },
  {
   "cell_type": "code",
   "execution_count": null,
   "metadata": {},
   "outputs": [],
   "source": [
    "# Display a boxplot of daily taxi trips vs precipitations levels\n",
    "plot_boxplot(\n",
    "    pickup_count_wf_prec_lvl_sub,\n",
    "    x_var=\"wf_prec_lvl\",\n",
    "    y_var=\"count\",\n",
    "    xlabel=\"precipitations Levels\",\n",
    "    ylabel=\"Daily Taxi Trips\",\n",
    "    title=\"daily taxi trips vs precipitations levels (subset)\",\n",
    "    palette=\"magma_r\",\n",
    ")"
   ]
  },
  {
   "cell_type": "markdown",
   "metadata": {},
   "source": [
    "**Notes:** The boxplot above show the average number of daily taxi trips for each precipitations level.  In the taxi trips subset, no clear difference can be observed between the different precipitations levels."
   ]
  },
  {
   "cell_type": "code",
   "execution_count": null,
   "metadata": {},
   "outputs": [],
   "source": [
    "# Display a barplot of average daily taxi trips vs day of week for all precipitations levels\n",
    "plot_barplot(\n",
    "    pickup_count_wf_prec_lvl_sub,\n",
    "    x_var=\"pickup_weekday\",\n",
    "    y_var=\"count\",\n",
    "    labels=\"wf_prec_lvl\",\n",
    "    xlabel=\"Day of Week\",\n",
    "    ylabel=\"Daily Taxi Trips\",\n",
    "    legend=\"precipitations\",\n",
    "    title=\"average daily taxi trips vs day of week (subset)\",\n",
    "    palette=\"magma_r\",\n",
    ")"
   ]
  },
  {
   "cell_type": "markdown",
   "metadata": {},
   "source": [
    "**Notes:** The barplot above shows the average number of daily taxi trips for each day of the week and each precipitations level. In the taxi trips subset, no clear difference can be observed between the different precipitations levels."
   ]
  },
  {
   "cell_type": "code",
   "execution_count": null,
   "metadata": {},
   "outputs": [],
   "source": [
    "# Display a barplot of average daily taxi trips vs hour of day for all precipitations levels\n",
    "plot_barplot(\n",
    "    pickup_count_wf_prec_lvl_sub,\n",
    "    x_var=\"pickup_hour\",\n",
    "    y_var=\"count\",\n",
    "    labels=\"wf_prec_lvl\",\n",
    "    xlabel=\"Time (Hour)\",\n",
    "    ylabel=\"Daily Taxi Trips\",\n",
    "    legend=\"precipitations\",\n",
    "    title=\"average daily taxi trips vs hour of day (subset)\",\n",
    "    palette=\"magma_r\",\n",
    ")"
   ]
  },
  {
   "cell_type": "markdown",
   "metadata": {},
   "source": [
    "**Notes:** The barplot above shows the average number of daily taxi trips for each hour of the day and each precipitations level. In the taxi trips subset,no clear difference can be observed between the different precipitations levels."
   ]
  },
  {
   "cell_type": "code",
   "execution_count": null,
   "metadata": {},
   "outputs": [],
   "source": [
    "# Group taxi trips by pickup year-day, week-day, hour, and precipitations levels\n",
    "# Compute the mean of trip distances and durations\n",
    "pickup_avg_wf_prec_lvl = (\n",
    "    train_df.groupby([\"pickup_yearday\", \"pickup_weekday\", \"pickup_hour\", \"wf_prec_lvl\"])\n",
    "    .agg({\"trip_distance\": np.mean, \"trip_duration\": np.mean})\n",
    "    .reset_index()\n",
    ")\n",
    "\n",
    "# Compute the average trip speed\n",
    "pickup_avg_wf_prec_lvl[\"trip_speed\"] = np.divide(\n",
    "    pickup_avg_wf_prec_lvl[\"trip_distance\"], np.divide(pickup_avg_wf_prec_lvl[\"trip_duration\"], 60)\n",
    ")\n",
    "\n",
    "# Replace numerical values by the name of the categories\n",
    "pickup_avg_wf_prec_lvl[\"wf_prec_lvl\"] = pickup_avg_wf_prec_lvl[\"wf_prec_lvl\"].map(\n",
    "    dict(zip(np.arange(0, 4), [\"None\", \"Low\", \"Medium\", \"High\"]))\n",
    ")\n",
    "\n",
    "# Replace numerical values by the name of the categories\n",
    "pickup_avg_wf_prec_lvl[\"pickup_weekday\"] = pickup_avg_wf_prec_lvl[\"pickup_weekday\"].map(\n",
    "    dict(zip(np.arange(0, 7), weekdays))\n",
    ")\n",
    "\n",
    "# Display descriptive statistics of selected columns\n",
    "pickup_avg_wf_prec_lvl[[\"trip_distance\", \"trip_duration\", \"trip_speed\"]].describe()"
   ]
  },
  {
   "cell_type": "code",
   "execution_count": null,
   "metadata": {},
   "outputs": [],
   "source": [
    "# Group taxi trips by pickup year-day, week-day, hour, and precipitations levels\n",
    "# Compute the mean of trip distances and durations\n",
    "pickup_avg_wf_prec_lvl_sub = (\n",
    "    train_sub_df.groupby([\"pickup_yearday\", \"pickup_weekday\", \"pickup_hour\", \"wf_prec_lvl\"])\n",
    "    .agg({\"trip_distance\": np.mean, \"trip_duration\": np.mean})\n",
    "    .reset_index()\n",
    ")\n",
    "\n",
    "# Compute the average trip speed\n",
    "pickup_avg_wf_prec_lvl_sub[\"trip_speed\"] = np.divide(\n",
    "    pickup_avg_wf_prec_lvl_sub[\"trip_distance\"],\n",
    "    np.divide(pickup_avg_wf_prec_lvl_sub[\"trip_duration\"], 60),\n",
    ")\n",
    "\n",
    "# Replace numerical values by the name of the categories\n",
    "pickup_avg_wf_prec_lvl_sub[\"wf_prec_lvl\"] = pickup_avg_wf_prec_lvl_sub[\"wf_prec_lvl\"].map(\n",
    "    dict(zip(np.arange(0, 4), [\"None\", \"Low\", \"Medium\", \"High\"]))\n",
    ")\n",
    "\n",
    "# Replace numerical values by the name of the categories\n",
    "pickup_avg_wf_prec_lvl_sub[\"pickup_weekday\"] = pickup_avg_wf_prec_lvl_sub[\"pickup_weekday\"].map(\n",
    "    dict(zip(np.arange(0, 7), weekdays))\n",
    ")\n",
    "\n",
    "# Display descriptive statistics of selected columns\n",
    "pickup_avg_wf_prec_lvl_sub[[\"trip_distance\", \"trip_duration\", \"trip_speed\"]].describe()"
   ]
  },
  {
   "cell_type": "code",
   "execution_count": null,
   "metadata": {},
   "outputs": [],
   "source": [
    "# Display a boxplot of average trip distance vs precipitations levels\n",
    "plot_boxplot(\n",
    "    pickup_avg_wf_prec_lvl,\n",
    "    x_var=\"wf_prec_lvl\",\n",
    "    y_var=\"trip_distance\",\n",
    "    xlabel=\"precipitations Levels\",\n",
    "    ylabel=\"Average Distance (Km)\",\n",
    "    title=\"average trip distance vs precipitations levels\",\n",
    ")"
   ]
  },
  {
   "cell_type": "markdown",
   "metadata": {},
   "source": [
    "**Notes:** the boxplot above shows the average daily distance traveled for each precipitations level. No clear difference could be observed between these different levels."
   ]
  },
  {
   "cell_type": "code",
   "execution_count": null,
   "metadata": {},
   "outputs": [],
   "source": [
    "# Display a boxplot of average trip duration vs precipitations levels\n",
    "plot_boxplot(\n",
    "    pickup_avg_wf_prec_lvl,\n",
    "    x_var=\"wf_prec_lvl\",\n",
    "    y_var=\"trip_duration\",\n",
    "    xlabel=\"precipitations Levels\",\n",
    "    ylabel=\"Average Duration (Min)\",\n",
    "    title=\"average trip duration vs precipitations levels\",\n",
    ")"
   ]
  },
  {
   "cell_type": "markdown",
   "metadata": {},
   "source": [
    "**Notes:** the boxplot above shows the average daily travel duration for each precipitations level. No clear difference could be observed between these different levels."
   ]
  },
  {
   "cell_type": "code",
   "execution_count": null,
   "metadata": {},
   "outputs": [],
   "source": [
    "# Display a boxplot of average trip speed vs precipitations levels\n",
    "plot_boxplot(\n",
    "    pickup_avg_wf_prec_lvl,\n",
    "    x_var=\"wf_prec_lvl\",\n",
    "    y_var=\"trip_speed\",\n",
    "    xlabel=\"precipitations Levels\",\n",
    "    ylabel=\"Average Speed (Km/h)\",\n",
    "    title=\"average trip speed vs precipitations levels\",\n",
    ")"
   ]
  },
  {
   "cell_type": "markdown",
   "metadata": {},
   "source": [
    "**Notes:** the boxplot above shows the average daily travel duration for each precipitations level. No clear difference could be observed between these different levels."
   ]
  },
  {
   "cell_type": "code",
   "execution_count": null,
   "metadata": {},
   "outputs": [],
   "source": [
    "# Display a boxplot of average trip duration vs precipitations levels\n",
    "plot_boxplot(\n",
    "    pickup_avg_wf_prec_lvl_sub,\n",
    "    x_var=\"wf_prec_lvl\",\n",
    "    y_var=\"trip_duration\",\n",
    "    xlabel=\"precipitations Levels\",\n",
    "    ylabel=\"Average Duration (Min)\",\n",
    "    title=\"average trip duration vs precipitations levels (subset)\",\n",
    "    palette=\"magma_r\",\n",
    ")"
   ]
  },
  {
   "cell_type": "markdown",
   "metadata": {},
   "source": [
    "**Notes:** the boxplot above shows the average daily travel duration for each precipitations level. In the taxi trips subset, no clear difference could be observed between these different levels."
   ]
  },
  {
   "cell_type": "code",
   "execution_count": null,
   "metadata": {},
   "outputs": [],
   "source": [
    "# Display a boxplot of average trip speed vs precipitations levels\n",
    "plot_boxplot(\n",
    "    pickup_avg_wf_prec_lvl_sub,\n",
    "    x_var=\"wf_prec_lvl\",\n",
    "    y_var=\"trip_speed\",\n",
    "    xlabel=\"precipitations Levels\",\n",
    "    ylabel=\"Average Speed (Km/h)\",\n",
    "    title=\"average trip speed vs precipitations levels (subset)\",\n",
    "    palette=\"magma_r\",\n",
    ")"
   ]
  },
  {
   "cell_type": "markdown",
   "metadata": {},
   "source": [
    "**Notes:** the boxplot above shows the average daily travel duration for each precipitations level. In the taxi trips subset, no clear difference could be observed between these different levels."
   ]
  },
  {
   "cell_type": "code",
   "execution_count": null,
   "metadata": {},
   "outputs": [],
   "source": [
    "# Display a barplot of average trip distance vs day of week for all precipitations levels\n",
    "plot_barplot(\n",
    "    pickup_avg_wf_prec_lvl,\n",
    "    x_var=\"pickup_weekday\",\n",
    "    y_var=\"trip_distance\",\n",
    "    labels=\"wf_prec_lvl\",\n",
    "    xlabel=\"Time (Hour)\",\n",
    "    ylabel=\"Average Distance (Km)\",\n",
    "    legend=\"precipitations\",\n",
    "    title=\"average trip distance vs day of week\",\n",
    ")"
   ]
  },
  {
   "cell_type": "markdown",
   "metadata": {},
   "source": [
    "**Notes:** the barplot above shows the average daily distance travelled for each precipitations level. No clear difference could be observed between these different levels."
   ]
  },
  {
   "cell_type": "code",
   "execution_count": null,
   "metadata": {},
   "outputs": [],
   "source": [
    "# Display a barplot of average trip duration vs day of week for all precipitations levels\n",
    "plot_barplot(\n",
    "    pickup_avg_wf_prec_lvl,\n",
    "    x_var=\"pickup_weekday\",\n",
    "    y_var=\"trip_duration\",\n",
    "    labels=\"wf_prec_lvl\",\n",
    "    xlabel=\"Time (Hour)\",\n",
    "    ylabel=\"Average Duration (Min)\",\n",
    "    legend=\"precipitations\",\n",
    "    title=\"average trip duration vs day of week\",\n",
    ")"
   ]
  },
  {
   "cell_type": "markdown",
   "metadata": {},
   "source": [
    "**Notes:** the barplot above shows the average daily travel duration for each day of the week and precipitations level. No clear difference could be observed between these different levels."
   ]
  },
  {
   "cell_type": "code",
   "execution_count": null,
   "metadata": {},
   "outputs": [],
   "source": [
    "# Display a barplot of average trip speed vs day of week for all precipitations levels\n",
    "plot_barplot(\n",
    "    pickup_avg_wf_prec_lvl,\n",
    "    x_var=\"pickup_weekday\",\n",
    "    y_var=\"trip_speed\",\n",
    "    labels=\"wf_prec_lvl\",\n",
    "    xlabel=\"Time (Hour)\",\n",
    "    ylabel=\"Average Speed (Km/h)\",\n",
    "    legend=\"precipitations\",\n",
    "    title=\"average trip speed vs day of week\",\n",
    ")"
   ]
  },
  {
   "cell_type": "markdown",
   "metadata": {},
   "source": [
    "**Notes:** the barplot above shows the average daily travel speed for each day of the week and precipitations level. No clear differences could be observed between these different levels."
   ]
  },
  {
   "cell_type": "code",
   "execution_count": null,
   "metadata": {},
   "outputs": [],
   "source": [
    "# Display a barplot of average trip duration vs day of week for all precipitations levels\n",
    "plot_barplot(\n",
    "    pickup_avg_wf_prec_lvl_sub,\n",
    "    x_var=\"pickup_weekday\",\n",
    "    y_var=\"trip_duration\",\n",
    "    labels=\"wf_prec_lvl\",\n",
    "    xlabel=\"Time (Hour)\",\n",
    "    ylabel=\"Average Duration (Min)\",\n",
    "    legend=\"precipitations\",\n",
    "    title=\"average trip duration vs day of week (subset)\",\n",
    "    palette=\"magma_r\",\n",
    ")"
   ]
  },
  {
   "cell_type": "markdown",
   "metadata": {},
   "source": [
    "**Notes:** the barplot above shows the average daily travel duration for each day of the week and precipitations level. In the taxi trips subset, no clear difference could be observed between these different levels."
   ]
  },
  {
   "cell_type": "code",
   "execution_count": null,
   "metadata": {},
   "outputs": [],
   "source": [
    "# Display a barplot of average trip speed vs day of week for all precipitations levels\n",
    "plot_barplot(\n",
    "    pickup_avg_wf_prec_lvl_sub,\n",
    "    x_var=\"pickup_weekday\",\n",
    "    y_var=\"trip_speed\",\n",
    "    labels=\"wf_prec_lvl\",\n",
    "    xlabel=\"Time (Hour)\",\n",
    "    ylabel=\"Average Speed (Km/h)\",\n",
    "    legend=\"precipitations\",\n",
    "    title=\"average trip speed vs day of week (subset)\",\n",
    "    palette=\"magma_r\",\n",
    ")"
   ]
  },
  {
   "cell_type": "markdown",
   "metadata": {},
   "source": [
    "**Notes:** the barplot above shows the average daily travel speed for each day of the week and precipitations level. In the taxi trips subset, no clear differences could be observed between these different levels."
   ]
  },
  {
   "cell_type": "code",
   "execution_count": null,
   "metadata": {},
   "outputs": [],
   "source": [
    "# Display a lineplot of average trip distance vs hour of day for all precipitations levels\n",
    "plot_lineplot(\n",
    "    pickup_avg_wf_prec_lvl,\n",
    "    x_var=\"pickup_hour\",\n",
    "    y_var=\"trip_distance\",\n",
    "    labels=\"wf_prec_lvl\",\n",
    "    xlabel=\"Time (Hour)\",\n",
    "    ylabel=\"Average Distance (Km)\",\n",
    "    legend=\"precipitations\",\n",
    "    title=\"average trip distance vs hour of day\",\n",
    ")"
   ]
  },
  {
   "cell_type": "markdown",
   "metadata": {},
   "source": [
    "**Notes:** the lineplot above shows the average daily distance traveled for each hour of the day and precipitations level. No clear differences could be observed between these different levels."
   ]
  },
  {
   "cell_type": "code",
   "execution_count": null,
   "metadata": {},
   "outputs": [],
   "source": [
    "# Display a lineplot of average trip duration vs hour of day for all precipitations levels\n",
    "plot_lineplot(\n",
    "    pickup_avg_wf_prec_lvl,\n",
    "    x_var=\"pickup_hour\",\n",
    "    y_var=\"trip_duration\",\n",
    "    labels=\"wf_prec_lvl\",\n",
    "    xlabel=\"Time (Hour)\",\n",
    "    ylabel=\"Average Duration (Min)\",\n",
    "    legend=\"precipitations\",\n",
    "    title=\"average trip duration vs hour of day\",\n",
    ")"
   ]
  },
  {
   "cell_type": "markdown",
   "metadata": {},
   "source": [
    "**Notes:** the lineplot above shows the average daily travel duration for each hour of the day and precipitations level. No clear differences could be observed between these different levels."
   ]
  },
  {
   "cell_type": "code",
   "execution_count": null,
   "metadata": {},
   "outputs": [],
   "source": [
    "# Display a lineplot of average trip duration vs hour of day for all precipitations levels\n",
    "plot_lineplot(\n",
    "    pickup_avg_wf_prec_lvl,\n",
    "    x_var=\"pickup_hour\",\n",
    "    y_var=\"trip_speed\",\n",
    "    labels=\"wf_prec_lvl\",\n",
    "    xlabel=\"Time (Hour)\",\n",
    "    ylabel=\"Average speed (Km/h)\",\n",
    "    legend=\"precipitations\",\n",
    "    title=\"average trip duration vs hour of day\",\n",
    ")"
   ]
  },
  {
   "cell_type": "markdown",
   "metadata": {},
   "source": [
    "**Notes:** the lineplot above shows the average daily travel speed for each hour of the day and precipitations level. No clear differences could be observed between these different levels."
   ]
  },
  {
   "cell_type": "code",
   "execution_count": null,
   "metadata": {},
   "outputs": [],
   "source": [
    "# Display a lineplot of average trip duration vs hour of day for all precipitations levels\n",
    "plot_lineplot(\n",
    "    pickup_avg_wf_prec_lvl_sub,\n",
    "    x_var=\"pickup_hour\",\n",
    "    y_var=\"trip_duration\",\n",
    "    labels=\"wf_prec_lvl\",\n",
    "    xlabel=\"Time (Hour)\",\n",
    "    ylabel=\"Average Duration (Min)\",\n",
    "    legend=\"precipitations\",\n",
    "    title=\"average trip duration vs hour of day (subset)\",\n",
    "    palette=\"magma_r\",\n",
    ")"
   ]
  },
  {
   "cell_type": "markdown",
   "metadata": {},
   "source": [
    "**Notes:** the lineplot above shows the average daily travel duration for each hour of the day and precipitations level. In the taxi trips subset, no clear differences could be observed between these different levels."
   ]
  },
  {
   "cell_type": "code",
   "execution_count": null,
   "metadata": {},
   "outputs": [],
   "source": [
    "# Display a lineplot of average trip duration vs hour of day for all precipitations levels\n",
    "plot_lineplot(\n",
    "    pickup_avg_wf_prec_lvl_sub,\n",
    "    x_var=\"pickup_hour\",\n",
    "    y_var=\"trip_speed\",\n",
    "    labels=\"wf_prec_lvl\",\n",
    "    xlabel=\"Time (Hour)\",\n",
    "    ylabel=\"Average speed (Km/h)\",\n",
    "    legend=\"precipitations\",\n",
    "    title=\"average trip duration vs hour of day (subset)\",\n",
    "    palette=\"magma_r\",\n",
    ")"
   ]
  },
  {
   "cell_type": "markdown",
   "metadata": {},
   "source": [
    "**Notes:** the lineplot above shows the average daily travel speed for each hour of the day and precipitations level. In the taxi trips subset, no clear differences could be observed between these different levels."
   ]
  },
  {
   "cell_type": "markdown",
   "metadata": {
    "jp-MarkdownHeadingCollapsed": true,
    "tags": []
   },
   "source": [
    "### Weather Data: New Snowfall"
   ]
  },
  {
   "cell_type": "code",
   "execution_count": null,
   "metadata": {},
   "outputs": [],
   "source": [
    "# Display a lineplot of new snowfall vs day of year\n",
    "plot_lineplot(\n",
    "    weather_df,\n",
    "    x_var=\"date\",\n",
    "    y_var=\"wf_new_snow_lvl\",\n",
    "    xlabel=\"Date\",\n",
    "    ylabel=\"New Snowfall Level\",\n",
    "    palette=\"magma_r\",\n",
    "    title=\"new snowfall levels in 2018\"\n",
    ")"
   ]
  },
  {
   "cell_type": "markdown",
   "metadata": {},
   "source": [
    "**Notes:** The line plot above shows the daily new snowfall levels as a function of the date. Snowfalls only occur at few rare occasions during the coldest months of the year. However its impact on traffic congestion can be considerable as it might increase the amount of accident and lower travel speed. The impact of new snowfall on the distance, time and speed of daily taxi trips will be discussed below."
   ]
  },
  {
   "cell_type": "code",
   "execution_count": null,
   "metadata": {},
   "outputs": [],
   "source": [
    "# Group the weather data by weekday and new snowfall levels\n",
    "# Compute the number days with specific new snowfall levels\n",
    "weather_count_nsnow = (\n",
    "    weather_df.groupby([\"weekday\", \"wf_new_snow_lvl\"]).size().to_frame(\"count\").reset_index()\n",
    ")\n",
    "\n",
    "# Replace numerical values by the name of the categories\n",
    "weather_count_nsnow[\"wf_new_snow_lvl\"] = weather_count_nsnow[\"wf_new_snow_lvl\"].map(\n",
    "    dict(zip(np.arange(0, 4), [\"None (n=0)\", \"Low (n=1)\", \"Medium (n=2)\", \"High (n=3)\"]))\n",
    ")\n",
    "\n",
    "# Replace numerical values by the name of the categories\n",
    "weather_count_nsnow[\"weekday\"] = weather_count_nsnow[\"weekday\"].map(\n",
    "    dict(zip(np.arange(0, 7), weekdays))\n",
    ")\n",
    "\n",
    "# Display a barplot sum of year days vs new snowfall levels for all weekdays\n",
    "plot_barplot(\n",
    "    weather_count_nsnow,\n",
    "    x_var=\"wf_new_snow_lvl\",\n",
    "    y_var=\"count\",\n",
    "    labels=\"weekday\",\n",
    "    xlabel=\"Week Days\",\n",
    "    ylabel=\"Sum of Year Days\",\n",
    "    title=\"sum of year days vs new snowfall levels\"\n",
    ")"
   ]
  },
  {
   "cell_type": "markdown",
   "metadata": {},
   "source": [
    "**Note:** The barplot above shows the sum of days in the year that fall into one of the daily precipitations cateogry. Days with snowfalls are rare and only emcompass a few week days. This is noteworthy since the number of taxi trips, their distance, duration, and speed are all highly dependent on the day of the week and hour of the day.\n",
    "\n",
    "**Warnings:** The results obtained for a all levels of new snowfall should be interpreted with caution."
   ]
  },
  {
   "cell_type": "code",
   "execution_count": null,
   "metadata": {},
   "outputs": [],
   "source": [
    "# Group taxi trips by pickup year-day, week-day, hour, and new snowfall levels\n",
    "# Compute the number of daily trip\n",
    "pickup_count_nsnow = (\n",
    "    train_df.groupby([\"pickup_yearday\", \"pickup_weekday\", \"pickup_hour\", \"wf_new_snow_lvl\"])\n",
    "    .size()\n",
    "    .to_frame(\"count\")\n",
    "    .reset_index()\n",
    ").sort_values([\"wf_new_snow_lvl\", \"pickup_weekday\"])\n",
    "\n",
    "# Replace zero counts with NaN to prevent lowering the average.\n",
    "pickup_count_nsnow[\"count\"].replace(0, np.nan, inplace=True)\n",
    "\n",
    "# Replace numerical values by the name of the categories\n",
    "pickup_count_nsnow[\"wf_new_snow_lvl\"] = pickup_count_nsnow[\"wf_new_snow_lvl\"].map(\n",
    "    dict(zip(np.arange(0, 4), [\"None\", \"Low\", \"Medium\", \"High\"]))\n",
    ")\n",
    "\n",
    "# Replace numerical values by the name of the categories\n",
    "pickup_count_nsnow[\"pickup_weekday\"] = pickup_count_nsnow[\"pickup_weekday\"].map(\n",
    "    dict(zip(np.arange(0, 7), weekdays))\n",
    ")\n",
    "\n",
    "# Display the first five rows of the data frame\n",
    "pickup_count_nsnow.head()"
   ]
  },
  {
   "cell_type": "code",
   "execution_count": null,
   "metadata": {},
   "outputs": [],
   "source": [
    "# Group taxi trips by pickup year-day, week-day, hour, and new snowfall levels\n",
    "# Compute the number of daily trip\n",
    "pickup_count_nsnow_sub = (\n",
    "    train_sub_df.groupby(\n",
    "        [\"pickup_yearday\", \"pickup_weekday\", \"pickup_hour\", \"wf_new_snow_lvl\"]\n",
    "    )\n",
    "    .size()\n",
    "    .to_frame(\"count\")\n",
    "    .reset_index()\n",
    ").sort_values([\"wf_new_snow_lvl\", \"pickup_weekday\"])\n",
    "\n",
    "# Replace zero counts with NaN to prevent lowering the average.\n",
    "pickup_count_nsnow_sub[\"count\"].replace(0, np.nan, inplace=True)\n",
    "\n",
    "# Replace numerical values by the name of the categories\n",
    "pickup_count_nsnow_sub[\"wf_new_snow_lvl\"] = pickup_count_nsnow_sub[\"wf_new_snow_lvl\"].map(\n",
    "    dict(zip(np.arange(0, 4), [\"None\", \"Low\", \"Medium\", \"High\"]))\n",
    ")\n",
    "\n",
    "# Replace numerical values by the name of the categories\n",
    "pickup_count_nsnow_sub[\"pickup_weekday\"] = pickup_count_nsnow_sub[\"pickup_weekday\"].map(\n",
    "    dict(zip(np.arange(0, 7), weekdays))\n",
    ")\n",
    "\n",
    "# Display the first five rows of the data frame\n",
    "pickup_count_nsnow_sub.head()"
   ]
  },
  {
   "cell_type": "code",
   "execution_count": null,
   "metadata": {},
   "outputs": [],
   "source": [
    "# Display a barplot of daily taxi trips vs new snowfall levels\n",
    "plot_boxplot(\n",
    "    pickup_count_nsnow,\n",
    "    x_var=\"wf_new_snow_lvl\",\n",
    "    y_var=\"count\",\n",
    "    xlabel=\"New Snowfall Levels\",\n",
    "    ylabel=\"Daily Taxi Trips\",\n",
    "    title=\"daily taxi trips vs new snowfall levels\",\n",
    ")"
   ]
  },
  {
   "cell_type": "markdown",
   "metadata": {},
   "source": [
    "**Notes:** The boxplot above show the average number of daily taxi trips for each new snowfall level. The average number of daily rides is lower for days with high snowfalls."
   ]
  },
  {
   "cell_type": "code",
   "execution_count": null,
   "metadata": {},
   "outputs": [],
   "source": [
    "# Display a barplot of average daily taxi trips vs day of week for all new snowfall levels\n",
    "plot_barplot(\n",
    "    pickup_count_nsnow,\n",
    "    x_var=\"pickup_weekday\",\n",
    "    y_var=\"count\",\n",
    "    labels=\"wf_new_snow_lvl\",\n",
    "    label_order=[\"None\", \"Low\", \"Medium\", \"High\"],\n",
    "    xlabel=\"Day of Week\",\n",
    "    ylabel=\"Daily Taxi Trips\",\n",
    "    legend=\"New Snowfall\",\n",
    "    title=\"average daily taxi trips vs day of week\",\n",
    ")"
   ]
  },
  {
   "cell_type": "markdown",
   "metadata": {},
   "source": [
    "**Notes:** The barplot above shows the average number of daily taxi trips for each day of the week and each level of new snowfall. The average number of daily trips is significantly lower on Thursdays for the high new snowfall level. However, we saw earlier that New York was caught in a blizzard in early January and the city remained buried under a thick layer of snow for a few days after a heavy snowfall on Thursday, January 4, 2018. Two additional heavy snowfalls occurred on Wednesday, March 21 and Thursday, November 15, yet the one in March did not seem to affect traffic."
   ]
  },
  {
   "cell_type": "code",
   "execution_count": null,
   "metadata": {},
   "outputs": [],
   "source": [
    "# Display a barplot of average daily taxi trips vs hour of day for new snowfall levels\n",
    "plot_barplot(\n",
    "    pickup_count_nsnow,\n",
    "    x_var=\"pickup_hour\",\n",
    "    y_var=\"count\",\n",
    "    labels=\"wf_new_snow_lvl\",\n",
    "    label_order=[\"None\", \"Low\", \"Medium\", \"High\"],\n",
    "    xlabel=\"Time (Hour)\",\n",
    "    ylabel=\"Daily Taxi Trips\",\n",
    "    legend=\"New Snowfall\",\n",
    "    title=\"average daily taxi trips vs hour of day\",\n",
    ")"
   ]
  },
  {
   "cell_type": "markdown",
   "metadata": {},
   "source": [
    "**Notes:** The barplot above shows the average number of daily taxi trips for each hour of the day and each level of new snowfall. No clear difference can be seen between the different new snowfall, as most new snowfall levels fall within their margins of error. However, the heaviest snowfall of 2018 still seem to have affected traffic throughout the day and night. Indeed, the high new snowfalls occured on the two busiest day of the week and caused a drop in the number of average daily taxi trip."
   ]
  },
  {
   "cell_type": "code",
   "execution_count": null,
   "metadata": {},
   "outputs": [],
   "source": [
    "# Display a barplot of daily taxi trips vs new snowfall levels\n",
    "plot_boxplot(\n",
    "    pickup_count_nsnow_sub,\n",
    "    x_var=\"wf_new_snow_lvl\",\n",
    "    y_var=\"count\",\n",
    "    xlabel=\"New Snowfall Levels\",\n",
    "    ylabel=\"Daily Taxi Trips\",\n",
    "    title=\"daily taxi trips vs new snowfall levels\",\n",
    "    palette=\"magma_r\",\n",
    ")"
   ]
  },
  {
   "cell_type": "markdown",
   "metadata": {},
   "source": [
    "**Notes:** The boxplot above show the average number of daily taxi trips for each new snowfall level. In the taxi trips subset, the average number of daily rides is marginally lower for days with high snowfalls and higher for low snowfalls compared to days with no snowfalls."
   ]
  },
  {
   "cell_type": "code",
   "execution_count": null,
   "metadata": {},
   "outputs": [],
   "source": [
    "# Display a barplot of average daily taxi trips vs day of week for all new snowfall levels\n",
    "plot_barplot(\n",
    "    pickup_count_nsnow_sub,\n",
    "    x_var=\"pickup_weekday\",\n",
    "    y_var=\"count\",\n",
    "    labels=\"wf_new_snow_lvl\",\n",
    "    label_order=[\"None\", \"Low\", \"Medium\", \"High\"],\n",
    "    xlabel=\"Day of Week\",\n",
    "    ylabel=\"Daily Taxi Trips\",\n",
    "    legend=\"New Snowfall\",\n",
    "    title=\"average daily taxi trips vs day of week\",\n",
    "    palette=\"magma_r\",\n",
    ")"
   ]
  },
  {
   "cell_type": "markdown",
   "metadata": {},
   "source": [
    "**Notes:** The barplot above shows the average number of daily taxi trips for each day of the week and each level of new snowfall. In the taxi trips subset, the average number of daily trips shows no major difference, with the exception of a significant drop on Thursday due to the blizzard that hit New York City on Thursday, January 4, 2018. "
   ]
  },
  {
   "cell_type": "code",
   "execution_count": null,
   "metadata": {},
   "outputs": [],
   "source": [
    "# Display a barplot of average daily taxi trips vs hour of day for new snowfall levels\n",
    "plot_barplot(\n",
    "    pickup_count_nsnow_sub,\n",
    "    x_var=\"pickup_hour\",\n",
    "    y_var=\"count\",\n",
    "    labels=\"wf_new_snow_lvl\",\n",
    "    label_order=[\"None\", \"Low\", \"Medium\", \"High\"],\n",
    "    xlabel=\"Time (Hour)\",\n",
    "    ylabel=\"Daily Taxi Trips\",\n",
    "    legend=\"New Snowfall\",\n",
    "    title=\"average daily taxi trips vs hour of day\",\n",
    "    palette=\"magma_r\",\n",
    ")"
   ]
  },
  {
   "cell_type": "markdown",
   "metadata": {},
   "source": [
    "**Notes:** The barplot above shows the average number of daily taxi trips for each hour of the day and each level of new snowfall. In the taxi trips subset, no clear difference can be seen between the different new snowfall, as most new snowfall levels fall within their margins of error. However, the heaviest snowfall of 2018 have probably affected traffic throughout the day."
   ]
  },
  {
   "cell_type": "code",
   "execution_count": null,
   "metadata": {},
   "outputs": [],
   "source": [
    "# Group taxi trips by pickup year-day, week-day, hour, and new snowfall levels\n",
    "# Compute the mean of trip distances and durations\n",
    "pickup_avg_nsnow = (\n",
    "    train_df.groupby([\"pickup_yearday\", \"pickup_weekday\", \"pickup_hour\", \"wf_new_snow_lvl\"])\n",
    "    .agg({\"trip_distance\": np.mean, \"trip_duration\": np.mean})\n",
    "    .reset_index()\n",
    ").sort_values([\"wf_new_snow_lvl\", \"pickup_weekday\"])\n",
    "\n",
    "# Compute the average trip speed\n",
    "pickup_avg_nsnow[\"trip_speed\"] = np.divide(\n",
    "    pickup_avg_nsnow[\"trip_distance\"], np.divide(pickup_avg_nsnow[\"trip_duration\"], 60)\n",
    ")\n",
    "\n",
    "# Replace numerical values by the name of the categories\n",
    "pickup_avg_nsnow[\"wf_new_snow_lvl\"] = pickup_avg_nsnow[\"wf_new_snow_lvl\"].map(\n",
    "    dict(zip(np.arange(0, 4), [\"None\", \"Low\", \"Medium\", \"High\"]))\n",
    ")\n",
    "\n",
    "# Replace numerical values by the name of the categories\n",
    "pickup_avg_nsnow[\"pickup_weekday\"] = pickup_avg_nsnow[\"pickup_weekday\"].map(\n",
    "    dict(zip(np.arange(0, 7), weekdays))\n",
    ")\n",
    "\n",
    "# Display descriptive statistics of selected columns\n",
    "pickup_avg_nsnow[[\"trip_distance\", \"trip_duration\", \"trip_speed\"]].describe()"
   ]
  },
  {
   "cell_type": "code",
   "execution_count": null,
   "metadata": {},
   "outputs": [],
   "source": [
    "# Group taxi trips by pickup year-day, week-day, hour, and new snowfall levels\n",
    "# Compute the mean of trip distances and durations\n",
    "pickup_avg_nsnow_sub = (\n",
    "    train_sub_df.groupby([\"pickup_yearday\", \"pickup_weekday\", \"pickup_hour\", \"wf_new_snow_lvl\"])\n",
    "    .agg({\"trip_distance\": np.mean, \"trip_duration\": np.mean})\n",
    "    .reset_index()\n",
    ").sort_values([\"wf_new_snow_lvl\", \"pickup_weekday\"])\n",
    "\n",
    "# Compute the average trip speed\n",
    "pickup_avg_nsnow_sub[\"trip_speed\"] = np.divide(\n",
    "    pickup_avg_nsnow_sub[\"trip_distance\"], np.divide(pickup_avg_nsnow_sub[\"trip_duration\"], 60)\n",
    ")\n",
    "\n",
    "# Replace numerical values by the name of the categories\n",
    "pickup_avg_nsnow_sub[\"wf_new_snow_lvl\"] = pickup_avg_nsnow_sub[\"wf_new_snow_lvl\"].map(\n",
    "    dict(zip(np.arange(0, 4), [\"None\", \"Low\", \"Medium\", \"High\"]))\n",
    ")\n",
    "\n",
    "# Replace numerical values by the name of the categories\n",
    "pickup_avg_nsnow_sub[\"pickup_weekday\"] = pickup_avg_nsnow_sub[\"pickup_weekday\"].map(\n",
    "    dict(zip(np.arange(0, 7), weekdays))\n",
    ")\n",
    "\n",
    "# Display descriptive statistics of selected columns\n",
    "pickup_avg_nsnow_sub[[\"trip_distance\", \"trip_duration\", \"trip_speed\"]].describe()"
   ]
  },
  {
   "cell_type": "code",
   "execution_count": null,
   "metadata": {},
   "outputs": [],
   "source": [
    "# Display a boxplot of average trip distance vs new snowfall levels\n",
    "plot_boxplot(\n",
    "    pickup_avg_nsnow,\n",
    "    x_var=\"wf_new_snow_lvl\",\n",
    "    y_var=\"trip_distance\",\n",
    "    xlabel=\"New Snowfall Levels\",\n",
    "    ylabel=\"Average Distance (Km)\",\n",
    "    title=\"average trip distance vs new snowfall levels\",\n",
    ")"
   ]
  },
  {
   "cell_type": "markdown",
   "metadata": {},
   "source": [
    "**Notes:** the boxplot above shows the average daily distance traveled for each new snow level. No clear difference could be observed between these different levels."
   ]
  },
  {
   "cell_type": "code",
   "execution_count": null,
   "metadata": {},
   "outputs": [],
   "source": [
    "# Display a boxplot of average trip duration vs new snowfall levels\n",
    "plot_boxplot(\n",
    "    pickup_avg_nsnow,\n",
    "    x_var=\"wf_new_snow_lvl\",\n",
    "    y_var=\"trip_duration\",\n",
    "    xlabel=\"New Snowfall Levels\",\n",
    "    ylabel=\"Average Duration (Min)\",\n",
    "    title=\"average trip duration vs new snowfall levels\",\n",
    ")"
   ]
  },
  {
   "cell_type": "markdown",
   "metadata": {},
   "source": [
    "**Notes:** the boxplot above shows the average daily travel duration for each new snowfall level. No clear difference could be observed between these different levels."
   ]
  },
  {
   "cell_type": "code",
   "execution_count": null,
   "metadata": {},
   "outputs": [],
   "source": [
    "# Display a boxplot of average trip speed vs new snowfall levels\n",
    "plot_boxplot(\n",
    "    pickup_avg_nsnow,\n",
    "    x_var=\"wf_new_snow_lvl\",\n",
    "    y_var=\"trip_speed\",\n",
    "    xlabel=\"New Snowfall Levels\",\n",
    "    ylabel=\"Average Speed (Km/h)\",\n",
    "    title=\"average trip speed vs new snowfall levels\",\n",
    ")"
   ]
  },
  {
   "cell_type": "markdown",
   "metadata": {},
   "source": [
    "**Notes:** the boxplot above shows the average daily travel speed for each new snowfall level. No clear difference could be observed between these different levels."
   ]
  },
  {
   "cell_type": "code",
   "execution_count": null,
   "metadata": {},
   "outputs": [],
   "source": [
    "# Display a boxplot of average trip duration vs new snowfall levels\n",
    "plot_boxplot(\n",
    "    pickup_avg_nsnow_sub,\n",
    "    x_var=\"wf_new_snow_lvl\",\n",
    "    y_var=\"trip_duration\",\n",
    "    xlabel=\"New Snowfall Levels\",\n",
    "    ylabel=\"Average Duration (Min)\",\n",
    "    title=\"average trip duration vs new snowfall levels\",\n",
    "    palette=\"magma_r\",\n",
    ")"
   ]
  },
  {
   "cell_type": "markdown",
   "metadata": {},
   "source": [
    "**Notes:** the boxplot above shows the average daily travel duration for each new snowfall level. In the taxi trips subset, no clear difference could be observed between these different levels."
   ]
  },
  {
   "cell_type": "code",
   "execution_count": null,
   "metadata": {},
   "outputs": [],
   "source": [
    "# Display a boxplot of average trip speed vs new snowfall levels\n",
    "plot_boxplot(\n",
    "    pickup_avg_nsnow_sub,\n",
    "    x_var=\"wf_new_snow_lvl\",\n",
    "    y_var=\"trip_speed\",\n",
    "    xlabel=\"New Snowfall Levels\",\n",
    "    ylabel=\"Average Speed (Km/h)\",\n",
    "    title=\"average trip speed vs new snowfall levels\",\n",
    "    palette=\"magma_r\",\n",
    ")"
   ]
  },
  {
   "cell_type": "markdown",
   "metadata": {},
   "source": [
    "**Notes:** the boxplot above shows the average daily travel speed for each new snowfall level. In the taxi trips subset, no clear difference could be observed between these different levels."
   ]
  },
  {
   "cell_type": "code",
   "execution_count": null,
   "metadata": {},
   "outputs": [],
   "source": [
    "# Display a barplot of average trip distance vs day of week for all new snowfall levels\n",
    "plot_barplot(\n",
    "    pickup_avg_nsnow,\n",
    "    x_var=\"pickup_weekday\",\n",
    "    y_var=\"trip_distance\",\n",
    "    labels=\"wf_new_snow_lvl\",\n",
    "    label_order=[\"None\", \"Low\", \"Medium\", \"High\"],\n",
    "    xlabel=\"Day of Week\",\n",
    "    ylabel=\"Average Distance (Km)\",\n",
    "    legend=\"New Snowfall\",\n",
    "    title=\"average trip distance vs day of week\",\n",
    ")"
   ]
  },
  {
   "cell_type": "markdown",
   "metadata": {},
   "source": [
    "**Notes:** the barplot above shows the average daily distance travelled for each new snowfall level. No clear difference could be observed between these different levels."
   ]
  },
  {
   "cell_type": "code",
   "execution_count": null,
   "metadata": {},
   "outputs": [],
   "source": [
    "# Display a barplot of average trip duration vs day of week for all new snowfall levels\n",
    "plot_barplot(\n",
    "    pickup_avg_nsnow,\n",
    "    x_var=\"pickup_weekday\",\n",
    "    y_var=\"trip_duration\",\n",
    "    labels=\"wf_new_snow_lvl\",\n",
    "    label_order=[\"None\", \"Low\", \"Medium\", \"High\"],\n",
    "    xlabel=\"Day of Week\",\n",
    "    ylabel=\"Average Duration (Min)\",\n",
    "    legend=\"New Snowfall\",\n",
    "    title=\"average trip duration vs day of week\",\n",
    ")"
   ]
  },
  {
   "cell_type": "markdown",
   "metadata": {},
   "source": [
    "**Notes:** the barplot above shows the average daily travel duration for each day of the week and new snowfall level. No clear difference could be observed between these different levels."
   ]
  },
  {
   "cell_type": "code",
   "execution_count": null,
   "metadata": {},
   "outputs": [],
   "source": [
    "# Display a barplot of average trip speed vs day of week for all new snowfall levels\n",
    "plot_barplot(\n",
    "    pickup_avg_nsnow,\n",
    "    x_var=\"pickup_weekday\",\n",
    "    y_var=\"trip_speed\",\n",
    "    labels=\"wf_new_snow_lvl\",\n",
    "    label_order=[\"None\", \"Low\", \"Medium\", \"High\"],\n",
    "    xlabel=\"Day of Week\",\n",
    "    ylabel=\"Average speed (Km/h)\",\n",
    "    legend=\"New Snowfall\",\n",
    "    title=\"average trip speed vs day of week\",\n",
    ")"
   ]
  },
  {
   "cell_type": "markdown",
   "metadata": {},
   "source": [
    "**Notes:** the barplot above shows the average daily travel speed for each day of the week and new snowfall level. No clear differences could be observed between these different levels."
   ]
  },
  {
   "cell_type": "code",
   "execution_count": null,
   "metadata": {},
   "outputs": [],
   "source": [
    "# Display a barplot of average trip duration vs day of week for all new snowfall levels\n",
    "plot_barplot(\n",
    "    pickup_avg_nsnow_sub,\n",
    "    x_var=\"pickup_weekday\",\n",
    "    y_var=\"trip_duration\",\n",
    "    labels=\"wf_new_snow_lvl\",\n",
    "    label_order=[\"None\", \"Low\", \"Medium\", \"High\"],\n",
    "    xlabel=\"Day of Week\",\n",
    "    ylabel=\"Average Duration (Min)\",\n",
    "    legend=\"New Snowfall\",\n",
    "    title=\"average trip duration vs day of week\",\n",
    "    palette=\"magma_r\",\n",
    ")"
   ]
  },
  {
   "cell_type": "markdown",
   "metadata": {},
   "source": [
    "**Notes:** the barplot above shows the average daily travel duration for each day of the week and new snowfall level. In the taxi trips subset, no clear difference could be observed between these different levels."
   ]
  },
  {
   "cell_type": "code",
   "execution_count": null,
   "metadata": {},
   "outputs": [],
   "source": [
    "# Display a barplot of average trip speed vs day of week for all new snowfall levels\n",
    "plot_barplot(\n",
    "    pickup_avg_nsnow_sub,\n",
    "    x_var=\"pickup_weekday\",\n",
    "    y_var=\"trip_speed\",\n",
    "    labels=\"wf_new_snow_lvl\",\n",
    "    label_order=[\"None\", \"Low\", \"Medium\", \"High\"],\n",
    "    xlabel=\"Day of Week\",\n",
    "    ylabel=\"Average speed (Km/h)\",\n",
    "    legend=\"New Snowfall\",\n",
    "    title=\"average trip speed vs day of week\",\n",
    "    palette=\"magma_r\",\n",
    ")"
   ]
  },
  {
   "cell_type": "markdown",
   "metadata": {},
   "source": [
    "**Notes:** the barplot above shows the average daily travel speed for each day of the week and new snowfall level. In the taxi trips subset, no clear differences could be observed between these different levels."
   ]
  },
  {
   "cell_type": "code",
   "execution_count": null,
   "metadata": {},
   "outputs": [],
   "source": [
    "# Display a lineplot of average trip distance vs hour of day for all new snowfall levels\n",
    "plot_lineplot(\n",
    "    pickup_avg_nsnow,\n",
    "    x_var=\"pickup_hour\",\n",
    "    y_var=\"trip_distance\",\n",
    "    labels=\"wf_new_snow_lvl\",\n",
    "    label_order=[\"None\", \"Low\", \"Medium\", \"High\"],\n",
    "    xlabel=\"Time (Hour)\",\n",
    "    ylabel=\"Average Distance (Km)\",\n",
    "    legend=\"New Snowfall\",\n",
    "    title=\"average trip distance vs hour of day\",\n",
    ")"
   ]
  },
  {
   "cell_type": "markdown",
   "metadata": {},
   "source": [
    "**Notes:** the lineplot above shows the average daily distance traveled for each hour of the day and new snowfall level. No clear differences could be observed between these different levels"
   ]
  },
  {
   "cell_type": "code",
   "execution_count": null,
   "metadata": {},
   "outputs": [],
   "source": [
    "# Display a lineplot of average trip duration vs hour of day for all new snowfall levels\n",
    "plot_lineplot(\n",
    "    pickup_avg_nsnow,\n",
    "    x_var=\"pickup_hour\",\n",
    "    y_var=\"trip_duration\",\n",
    "    labels=\"wf_new_snow_lvl\",\n",
    "    label_order=[\"None\", \"Low\", \"Medium\", \"High\"],\n",
    "    xlabel=\"Time (Hour)\",\n",
    "    ylabel=\"Average Duration (Min)\",\n",
    "    legend=\"New Snowfall\",\n",
    "    title=\"average trip duration vs hour of day\",\n",
    ")"
   ]
  },
  {
   "cell_type": "markdown",
   "metadata": {},
   "source": [
    "**Notes:** the lineplot above shows the average daily travel duration for each hour of the day and new snowfall level. No clear difference could be observed between these different levels, but it appears that heavy snowfall resulted in an increase in travel time between 15:00 and 22:00."
   ]
  },
  {
   "cell_type": "code",
   "execution_count": null,
   "metadata": {},
   "outputs": [],
   "source": [
    "# Display a lineplot of average trip speed vs hour of day for all new snowfall levels\n",
    "plot_lineplot(\n",
    "    pickup_avg_nsnow,\n",
    "    x_var=\"pickup_hour\",\n",
    "    y_var=\"trip_speed\",\n",
    "    labels=\"wf_new_snow_lvl\",\n",
    "    label_order=[\"None\", \"Low\", \"Medium\", \"High\"],\n",
    "    xlabel=\"Time (Hour)\",\n",
    "    ylabel=\"Average speed (Km/h)\",\n",
    "    legend=\"New Snowfall\",\n",
    "    title=\"average trip speed vs hour of day\",\n",
    ")"
   ]
  },
  {
   "cell_type": "markdown",
   "metadata": {},
   "source": [
    "**Notes:** the lineplot above shows the average daily travel speed for each hour of the day and new snowfall level. No clear difference could be observed between these different levels,"
   ]
  },
  {
   "cell_type": "code",
   "execution_count": null,
   "metadata": {},
   "outputs": [],
   "source": [
    "# Display a lineplot of average trip duration vs hour of day for all new snowfall levels\n",
    "plot_lineplot(\n",
    "    pickup_avg_nsnow_sub,\n",
    "    x_var=\"pickup_hour\",\n",
    "    y_var=\"trip_duration\",\n",
    "    labels=\"wf_new_snow_lvl\",\n",
    "    label_order=[\"None\", \"Low\", \"Medium\", \"High\"],\n",
    "    xlabel=\"Time (Hour)\",\n",
    "    ylabel=\"Average Duration (Min)\",\n",
    "    legend=\"New Snowfall\",\n",
    "    title=\"average trip duration vs hour of day\",\n",
    "    palette=\"magma_r\",\n",
    ")"
   ]
  },
  {
   "cell_type": "markdown",
   "metadata": {},
   "source": [
    "**Notes:** the lineplot above shows the average daily travel duration for each hour of the day and new snowfall level. In the taxi trips subset, no clear difference could be observed between these different levels, but it appears that heavy snowfall resulted in an increase in travel time between 15:00 and 22:00."
   ]
  },
  {
   "cell_type": "code",
   "execution_count": null,
   "metadata": {},
   "outputs": [],
   "source": [
    "# Display a lineplot of average trip speed vs hour of day for all new snowfall levels\n",
    "plot_lineplot(\n",
    "    pickup_avg_nsnow_sub,\n",
    "    x_var=\"pickup_hour\",\n",
    "    y_var=\"trip_speed\",\n",
    "    labels=\"wf_new_snow_lvl\",\n",
    "    label_order=[\"None\", \"Low\", \"Medium\", \"High\"],\n",
    "    xlabel=\"Time (Hour)\",\n",
    "    ylabel=\"Average speed (Km/h)\",\n",
    "    legend=\"New Snowfall\",\n",
    "    title=\"average trip speed vs hour of day\",\n",
    "    palette=\"magma_r\",\n",
    ")"
   ]
  },
  {
   "cell_type": "markdown",
   "metadata": {},
   "source": [
    "**Notes:** the lineplot above shows the average daily travel speed for each hour of the day and new snowfall level. In the taxi trips subset, no clear difference could be observed between these different levels,"
   ]
  },
  {
   "cell_type": "markdown",
   "metadata": {
    "jp-MarkdownHeadingCollapsed": true,
    "tags": []
   },
   "source": [
    "### Weather Data: Snow Depth"
   ]
  },
  {
   "cell_type": "code",
   "execution_count": null,
   "metadata": {},
   "outputs": [],
   "source": [
    "# Display a lineplot of snow depth vs day of year\n",
    "plot_lineplot(\n",
    "    weather_df,\n",
    "    x_var=\"date\",\n",
    "    y_var=\"wf_snow_depth_lvl\",\n",
    "    xlabel=\"Date\",\n",
    "    ylabel=\"Snow Depth Level\",\n",
    "    title=\"Snow Depth in 2018\"\n",
    ")"
   ]
  },
  {
   "cell_type": "markdown",
   "metadata": {},
   "source": [
    "**Notes:** The line plot above shows the daily snow depth levels as a function of the date. Snowfalls only occur at few rare occasions during the coldest months of the year and snow usually rapidely melts within a few days. However its impact on traffic congestion can be considerable as it might increase the amount of accident and lower travel speed. The impact of snow depth on the distance, time and speed of daily taxi trips will be discussed below."
   ]
  },
  {
   "cell_type": "code",
   "execution_count": null,
   "metadata": {},
   "outputs": [],
   "source": [
    "# Group the weather data by weekday and snow depth levels\n",
    "# Compute the number days with specific snow depth levels\n",
    "weather_count_temp = (\n",
    "    weather_df.groupby([\"weekday\", \"wf_snow_depth_lvl\"]).size().to_frame(\"count\").reset_index()\n",
    ").sort_values([\"wf_snow_depth_lvl\", \"weekday\"])\n",
    "\n",
    "# Replace numerical values by the name of the categories\n",
    "weather_count_temp[\"wf_snow_depth_lvl\"] = weather_count_temp[\"wf_snow_depth_lvl\"].map(\n",
    "    dict(zip(np.arange(0, 4), [\"None (n=0)\", \"Low (n=1)\", \"High (n=2)\"]))\n",
    ")\n",
    "\n",
    "# Replace numerical values by the name of the categories\n",
    "weather_count_temp[\"weekday\"] = weather_count_temp[\"weekday\"].map(\n",
    "    dict(zip(np.arange(0, 7), weekdays))\n",
    ")\n",
    "\n",
    "# Display a barplot sum of year days vs snow depth levels for all weekdays\n",
    "plot_barplot(\n",
    "    weather_count_temp,\n",
    "    x_var=\"wf_snow_depth_lvl\",\n",
    "    y_var=\"count\",\n",
    "    labels=\"weekday\",\n",
    "    xlabel=\"Day of Week\",\n",
    "    ylabel=\"Sum of Year Days\",\n",
    "    title=\"sum of year days vs snow depth levels\",\n",
    ")"
   ]
  },
  {
   "cell_type": "markdown",
   "metadata": {},
   "source": [
    "**Note:** The barplot above shows the sum of days in the year that fall into one of the daily snow depth categories. As noted earlier, days with snowfall are rare, but snow generally remains for a few days on roads and other infrastructure. Both levels of snow depth cover most weekdays, but with very little frequency.\n",
    "\n",
    "**Warnings:** The results obtained for a all levels of snow depth should be interpreted with caution due to their low frequency."
   ]
  },
  {
   "cell_type": "code",
   "execution_count": null,
   "metadata": {},
   "outputs": [],
   "source": [
    "# Group taxi trips by pickup year-day, week-day, hour, and snow depth levels\n",
    "# Compute the number of daily trip\n",
    "pickup_count_dsnow = (\n",
    "    train_df.groupby([\"pickup_yearday\", \"pickup_weekday\", \"pickup_hour\", \"wf_snow_depth_lvl\"])\n",
    "    .size()\n",
    "    .to_frame(\"count\")\n",
    "    .reset_index()\n",
    ")\n",
    "\n",
    "# Replace zero counts with NaN to prevent lowering the average.\n",
    "pickup_count_dsnow[\"count\"].replace(0, np.nan, inplace=True)\n",
    "\n",
    "# Replace numerical values by the name of the categories\n",
    "pickup_count_dsnow[\"wf_snow_depth_lvl\"] = pickup_count_dsnow[\"wf_snow_depth_lvl\"].map(\n",
    "    dict(zip(np.arange(0, 3), [\"None\", \"Low\", \"High\"]))\n",
    ")\n",
    "\n",
    "# Replace numerical values by the name of the categories\n",
    "pickup_count_dsnow[\"pickup_weekday\"] = pickup_count_dsnow[\"pickup_weekday\"].map(\n",
    "    dict(zip(np.arange(0, 7), weekdays))\n",
    ")\n",
    "\n",
    "# Display the first five rows of the data frame\n",
    "pickup_count_dsnow.head()"
   ]
  },
  {
   "cell_type": "code",
   "execution_count": null,
   "metadata": {},
   "outputs": [],
   "source": [
    "# Group taxi trips by pickup year-day, week-day, hour, and snow depth levels\n",
    "# Compute the number of daily trip\n",
    "pickup_count_dsnow_sub = (\n",
    "    train_sub_df.groupby(\n",
    "        [\"pickup_yearday\", \"pickup_weekday\", \"pickup_hour\", \"wf_snow_depth_lvl\"]\n",
    "    )\n",
    "    .size()\n",
    "    .to_frame(\"count\")\n",
    "    .reset_index()\n",
    ")\n",
    "\n",
    "# Replace zero counts with NaN to prevent lowering the average.\n",
    "pickup_count_dsnow_sub[\"count\"].replace(0, np.nan, inplace=True)\n",
    "\n",
    "# Replace numerical values by the name of the categories\n",
    "pickup_count_dsnow_sub[\"wf_snow_depth_lvl\"] = pickup_count_dsnow_sub[\"wf_snow_depth_lvl\"].map(\n",
    "    dict(zip(np.arange(0, 3), [\"None\", \"Low\", \"High\"]))\n",
    ")\n",
    "\n",
    "# Replace numerical values by the name of the categories\n",
    "pickup_count_dsnow_sub[\"pickup_weekday\"] = pickup_count_dsnow_sub[\"pickup_weekday\"].map(\n",
    "    dict(zip(np.arange(0, 7), weekdays))\n",
    ")\n",
    "\n",
    "# Display the first five rows of the data frame\n",
    "pickup_count_dsnow_sub.head()"
   ]
  },
  {
   "cell_type": "code",
   "execution_count": null,
   "metadata": {},
   "outputs": [],
   "source": [
    "# Display a barplot of daily taxi trips vs snow depth levels\n",
    "plot_boxplot(\n",
    "    pickup_count_dsnow,\n",
    "    x_var=\"wf_snow_depth_lvl\",\n",
    "    y_var=\"count\",\n",
    "    xlabel=\"Snow Depth Levels\",\n",
    "    ylabel=\"Daily Taxi Trips\",\n",
    "    title=\"daily taxi trips vs snow depth levels\",\n",
    ")"
   ]
  },
  {
   "cell_type": "markdown",
   "metadata": {},
   "source": [
    "**Notes:** The barplot above shows the average number of daily taxi trips for each snow depth level. No clear difference can be observed between the different snow depth levels."
   ]
  },
  {
   "cell_type": "code",
   "execution_count": null,
   "metadata": {},
   "outputs": [],
   "source": [
    "# Display a barplot of average daily taxi trips vs day of week for all snow depth levels\n",
    "plot_barplot(\n",
    "    pickup_count_dsnow,\n",
    "    x_var=\"pickup_weekday\",\n",
    "    y_var=\"count\",\n",
    "    labels=\"wf_snow_depth_lvl\",\n",
    "    xlabel=\"Day of Week\",\n",
    "    ylabel=\"Daily Taxi Trips\",\n",
    "    legend=\"Snow Depth\",\n",
    "    title=\"average daily taxi trips vs day of week\",\n",
    ")"
   ]
  },
  {
   "cell_type": "markdown",
   "metadata": {},
   "source": [
    "**Notes:** The barplot above shows the average number of daily taxi trips for each day of the week and each snow depth level. No clear difference can be observed between the different snow depth levels, yet the high snow depth level is higher on thursday. New Yorkers may have used taxi more frequently during heavy snow storm."
   ]
  },
  {
   "cell_type": "code",
   "execution_count": null,
   "metadata": {},
   "outputs": [],
   "source": [
    "# Display a barplot of average daily taxi trips vs hour of day for all snow depth levels\n",
    "plot_barplot(\n",
    "    pickup_count_dsnow,\n",
    "    x_var=\"pickup_hour\",\n",
    "    y_var=\"count\",\n",
    "    labels=\"wf_snow_depth_lvl\",\n",
    "    xlabel=\"Time (Hour)\",\n",
    "    ylabel=\"Daily Taxi Trips\",\n",
    "    legend=\"Snow Depth\",\n",
    "    title=\"average daily taxi trips vs hour of day\",\n",
    ")"
   ]
  },
  {
   "cell_type": "markdown",
   "metadata": {},
   "source": [
    "**Notes:** The barplot above shows the average number of daily taxi trips for each hour of the day and each snow depth level. No clear difference can be observed between the different precipitations levels."
   ]
  },
  {
   "cell_type": "code",
   "execution_count": null,
   "metadata": {},
   "outputs": [],
   "source": [
    "# Display a barplot of average daily taxi trips vs snow depth levels\n",
    "plot_boxplot(\n",
    "    pickup_count_dsnow_sub,\n",
    "    x_var=\"wf_snow_depth_lvl\",\n",
    "    y_var=\"count\",\n",
    "    xlabel=\"Snow Depth Levels\",\n",
    "    ylabel=\"Daily Taxi Trips\",\n",
    "    title=\"daily taxi trips vs snow depth levels (subset)\",\n",
    "    palette=\"magma_r\",\n",
    ")"
   ]
  },
  {
   "cell_type": "markdown",
   "metadata": {},
   "source": [
    "**Notes:** The barplot above shows the average number of daily taxi trips for each snow depth level. In the taxi trips subset, no clear difference can be observed between the different snow depth levels."
   ]
  },
  {
   "cell_type": "code",
   "execution_count": null,
   "metadata": {},
   "outputs": [],
   "source": [
    "# Display a barplot of average daily taxi trips vs day of week for all snow depth levels\n",
    "plot_barplot(\n",
    "    pickup_count_dsnow_sub,\n",
    "    x_var=\"pickup_weekday\",\n",
    "    y_var=\"count\",\n",
    "    labels=\"wf_snow_depth_lvl\",\n",
    "    xlabel=\"Day of Week\",\n",
    "    ylabel=\"Daily Taxi Trips\",\n",
    "    legend=\"Snow Depth\",\n",
    "    title=\"average daily taxi trips vs day of week (subset)\",\n",
    "    palette=\"magma_r\",\n",
    ")"
   ]
  },
  {
   "cell_type": "markdown",
   "metadata": {},
   "source": [
    "**Notes:** The barplot above shows the average number of daily taxi trips for each day of the week and each snow depth level. In the taxi trips subset, no clear difference can be observed between the different snow depth levels, yet the high snow depth level is higher on thursday. New Yorkers probably used taxi more frequently during heavy snow storm."
   ]
  },
  {
   "cell_type": "code",
   "execution_count": null,
   "metadata": {},
   "outputs": [],
   "source": [
    "# Display a barplot of average daily taxi trips vs hour of day for all snow depth levels\n",
    "plot_barplot(\n",
    "    pickup_count_dsnow_sub,\n",
    "    x_var=\"pickup_hour\",\n",
    "    y_var=\"count\",\n",
    "    labels=\"wf_snow_depth_lvl\",\n",
    "    xlabel=\"Time (Hour)\",\n",
    "    ylabel=\"Daily Taxi Trips\",\n",
    "    legend=\"Snow Depth\",\n",
    "    title=\"average daily taxi trips vs hour of day (subset)\",\n",
    "    palette=\"magma_r\",\n",
    ")"
   ]
  },
  {
   "cell_type": "markdown",
   "metadata": {},
   "source": [
    "**Notes:** The barplot above shows the average number of daily taxi trips for each hour of the day and each snow depth level. In the taxi trips subset, no clear difference can be observed between the different precipitations levels."
   ]
  },
  {
   "cell_type": "code",
   "execution_count": null,
   "metadata": {},
   "outputs": [],
   "source": [
    "# Group taxi trips by pickup year-day, week-day, hour, and snow depth levels\n",
    "# Compute the mean of trip distances and durations\n",
    "pickup_avg_dsnow = (\n",
    "    train_df.groupby([\"pickup_yearday\", \"pickup_weekday\", \"pickup_hour\", \"wf_snow_depth_lvl\"])\n",
    "    .agg({\"trip_distance\": np.mean, \"trip_duration\": np.mean})\n",
    "    .reset_index()\n",
    ")\n",
    "\n",
    "# Compute the average trip speed\n",
    "pickup_avg_dsnow[\"trip_speed\"] = np.divide(\n",
    "    pickup_avg_dsnow[\"trip_distance\"], np.divide(pickup_avg_dsnow[\"trip_duration\"], 60)\n",
    ")\n",
    "\n",
    "# Replace numerical values by the name of the categories\n",
    "pickup_avg_dsnow[\"wf_snow_depth_lvl\"] = pickup_avg_dsnow[\"wf_snow_depth_lvl\"].map(\n",
    "    dict(zip(np.arange(0, 3), [\"None\", \"Low\", \"High\"]))\n",
    ")\n",
    "\n",
    "# Replace numerical values by the name of the categories\n",
    "pickup_avg_dsnow[\"pickup_weekday\"] = pickup_avg_dsnow[\"pickup_weekday\"].map(\n",
    "    dict(zip(np.arange(0, 7), weekdays))\n",
    ")\n",
    "\n",
    "# Display descriptive statistics of selected columns\n",
    "pickup_avg_dsnow[[\"trip_distance\", \"trip_duration\", \"trip_speed\"]].describe()"
   ]
  },
  {
   "cell_type": "code",
   "execution_count": null,
   "metadata": {},
   "outputs": [],
   "source": [
    "# Group taxi trips by pickup year-day, week-day, hour, and snow depth levels\n",
    "# Compute the mean of trip distances and durations\n",
    "pickup_avg_dsnow_sub = (\n",
    "    train_sub_df.groupby([\"pickup_yearday\", \"pickup_weekday\", \"pickup_hour\", \"wf_snow_depth_lvl\"])\n",
    "    .agg({\"trip_distance\": np.mean, \"trip_duration\": np.mean})\n",
    "    .reset_index()\n",
    ")\n",
    "\n",
    "# Compute the average trip speed\n",
    "pickup_avg_dsnow_sub[\"trip_speed\"] = np.divide(\n",
    "    pickup_avg_dsnow_sub[\"trip_distance\"], np.divide(pickup_avg_dsnow_sub[\"trip_duration\"], 60)\n",
    ")\n",
    "\n",
    "# Replace numerical values by the name of the categories\n",
    "pickup_avg_dsnow_sub[\"wf_snow_depth_lvl\"] = pickup_avg_dsnow_sub[\"wf_snow_depth_lvl\"].map(\n",
    "    dict(zip(np.arange(0, 3), [\"None\", \"Low\", \"High\"]))\n",
    ")\n",
    "\n",
    "# Replace numerical values by the name of the categories\n",
    "pickup_avg_dsnow_sub[\"pickup_weekday\"] = pickup_avg_dsnow_sub[\"pickup_weekday\"].map(\n",
    "    dict(zip(np.arange(0, 7), weekdays))\n",
    ")\n",
    "\n",
    "# Display descriptive statistics of selected columns\n",
    "pickup_avg_dsnow_sub[[\"trip_distance\", \"trip_duration\", \"trip_speed\"]].describe()"
   ]
  },
  {
   "cell_type": "code",
   "execution_count": null,
   "metadata": {},
   "outputs": [],
   "source": [
    "# Display a boxplot of average trip distance vs snow depth levels\n",
    "plot_boxplot(\n",
    "    pickup_avg_dsnow,\n",
    "    x_var=\"wf_snow_depth_lvl\",\n",
    "    y_var=\"trip_distance\",\n",
    "    xlabel=\"Snow Depth Levels\",\n",
    "    ylabel=\"Average Distance (Km)\",\n",
    "    title=\"average trip distance vs snow depth levels\",\n",
    ")"
   ]
  },
  {
   "cell_type": "markdown",
   "metadata": {},
   "source": [
    "**Notes:** the boxplot above shows the average daily distance traveled for each snow depth level. No clear difference could be observed between these different levels."
   ]
  },
  {
   "cell_type": "code",
   "execution_count": null,
   "metadata": {},
   "outputs": [],
   "source": [
    "# Display a boxplot of average trip duration vs snow depth levels\n",
    "plot_boxplot(\n",
    "    pickup_avg_dsnow,\n",
    "    x_var=\"wf_snow_depth_lvl\",\n",
    "    y_var=\"trip_duration\",\n",
    "    xlabel=\"Snow Depth Levels\",\n",
    "    ylabel=\"Average Duration (Min)\",\n",
    "    title=\"average trip duration vs snow depth levels\",\n",
    ")"
   ]
  },
  {
   "cell_type": "markdown",
   "metadata": {},
   "source": [
    "**Notes:** the boxplot above shows the average daily travel duration for each snow depth level. No clear difference could be observed between these different levels."
   ]
  },
  {
   "cell_type": "code",
   "execution_count": null,
   "metadata": {},
   "outputs": [],
   "source": [
    "# Display a boxplot of average trip speed vs snow depth levels\n",
    "plot_boxplot(\n",
    "    pickup_avg_dsnow,\n",
    "    x_var=\"wf_snow_depth_lvl\",\n",
    "    y_var=\"trip_speed\",\n",
    "    xlabel=\"Snow Depth Levels\",\n",
    "    ylabel=\"Average Speed (Km/h)\",\n",
    "    title=\"average trip speed vs snow depth levels\",\n",
    ")"
   ]
  },
  {
   "cell_type": "markdown",
   "metadata": {},
   "source": [
    "**Notes:** the boxplot above shows the average daily travel speed for each snow depth level. No clear difference could be observed between these different levels."
   ]
  },
  {
   "cell_type": "code",
   "execution_count": null,
   "metadata": {},
   "outputs": [],
   "source": [
    "# Display a boxplot of average trip duration vs snow depth levels\n",
    "plot_boxplot(\n",
    "    pickup_avg_dsnow_sub,\n",
    "    x_var=\"wf_snow_depth_lvl\",\n",
    "    y_var=\"trip_duration\",\n",
    "    xlabel=\"Snow Depth Levels\",\n",
    "    ylabel=\"Average Duration (Min)\",\n",
    "    title=\"average trip duration vs snow depth levels (subset)\",\n",
    "    palette=\"magma_r\",\n",
    ")"
   ]
  },
  {
   "cell_type": "markdown",
   "metadata": {},
   "source": [
    "**Notes:** the boxplot above shows the average daily travel duration for each snow depth level. In the taxi trips subset, no clear difference could be observed between these different levels."
   ]
  },
  {
   "cell_type": "code",
   "execution_count": null,
   "metadata": {},
   "outputs": [],
   "source": [
    "# Display a boxplot of average trip speed vs snow depth levels\n",
    "plot_boxplot(\n",
    "    pickup_avg_dsnow_sub,\n",
    "    x_var=\"wf_snow_depth_lvl\",\n",
    "    y_var=\"trip_speed\",\n",
    "    xlabel=\"Snow Depth Levels\",\n",
    "    ylabel=\"Average Speed (Km/h)\",\n",
    "    title=\"average trip speed vs snow depth levels (subset)\",\n",
    "    palette=\"magma_r\",\n",
    ")"
   ]
  },
  {
   "cell_type": "markdown",
   "metadata": {},
   "source": [
    "**Notes:** the boxplot above shows the average daily travel speed for each snow depth level. In the taxi trips subset, no clear difference could be observed between these different levels."
   ]
  },
  {
   "cell_type": "code",
   "execution_count": null,
   "metadata": {},
   "outputs": [],
   "source": [
    "# Display a barplot of average trip distance vs day of week for all snow depth levels\n",
    "plot_barplot(\n",
    "    pickup_avg_dsnow_sub,\n",
    "    x_var=\"pickup_weekday\",\n",
    "    y_var=\"trip_distance\",\n",
    "    labels=\"wf_snow_depth_lvl\",\n",
    "    xlabel=\"Day of week\",\n",
    "    ylabel=\"Average Distance (Km)\",\n",
    "    legend=\"Snow Depth\",\n",
    "    title=\"average trip distance vs day of week\",\n",
    ")"
   ]
  },
  {
   "cell_type": "markdown",
   "metadata": {},
   "source": [
    "**Notes:** the barplot above shows the average daily distance travelled for each day of the week and each snow depth level. No clear difference could be observed between these different levels."
   ]
  },
  {
   "cell_type": "code",
   "execution_count": null,
   "metadata": {},
   "outputs": [],
   "source": [
    "# Display a barplot of average trip duration vs day of week for all snow depth levels\n",
    "plot_barplot(\n",
    "    pickup_avg_dsnow,\n",
    "    x_var=\"pickup_weekday\",\n",
    "    y_var=\"trip_duration\",\n",
    "    labels=\"wf_snow_depth_lvl\",\n",
    "    xlabel=\"Day of week\",\n",
    "    ylabel=\"Average Duration (Min)\",\n",
    "    legend=\"Snow Depth\",\n",
    "    title=\"average trip duration vs day of week\",\n",
    ")"
   ]
  },
  {
   "cell_type": "markdown",
   "metadata": {},
   "source": [
    "**Notes:** the barplot above shows the average daily travel duration for each day of the week and each snow depth level. No clear difference could be observed between these different levels. However, a few days show a decrease in average travel time with both low and high snow depth, indicating that snow can affect traffic under specific conditions."
   ]
  },
  {
   "cell_type": "code",
   "execution_count": null,
   "metadata": {},
   "outputs": [],
   "source": [
    "# Display a barplot of average trip speed vs day of week for all snow depth levels\n",
    "plot_barplot(\n",
    "    pickup_avg_dsnow,\n",
    "    x_var=\"pickup_weekday\",\n",
    "    y_var=\"trip_speed\",\n",
    "    labels=\"wf_snow_depth_lvl\",\n",
    "    xlabel=\"Day of week\",\n",
    "    ylabel=\"Average Speed (Km/h)\",\n",
    "    legend=\"Snow Depth\",\n",
    "    title=\"average trip speed vs day of week\",\n",
    ")"
   ]
  },
  {
   "cell_type": "markdown",
   "metadata": {},
   "source": [
    "**Notes:** the barplot above shows the average daily travel speed for each day of the week and each snow depth level. No clear difference could be observed between these different levels."
   ]
  },
  {
   "cell_type": "code",
   "execution_count": null,
   "metadata": {},
   "outputs": [],
   "source": [
    "# Display a barplot of average trip duration vs day of week for all snow depth levels\n",
    "plot_barplot(\n",
    "    pickup_avg_dsnow_sub,\n",
    "    x_var=\"pickup_weekday\",\n",
    "    y_var=\"trip_duration\",\n",
    "    labels=\"wf_snow_depth_lvl\",\n",
    "    xlabel=\"Day of week\",\n",
    "    ylabel=\"Average Duration (Min)\",\n",
    "    legend=\"Snow Depth\", title=\"average trip duration vs day of week (subset)\",palette=\"magma_r\",\n",
    ")"
   ]
  },
  {
   "cell_type": "markdown",
   "metadata": {},
   "source": [
    "**Notes:** the barplot above shows the average daily travel duration for each day of the week and each snow depth level. In the taxi trips susbet, no clear difference could be observed between these different levels. However, a few days show a slighly decrease in average travel time with both low and high snow depth, indicating that snow can affect traffic under specific conditions."
   ]
  },
  {
   "cell_type": "code",
   "execution_count": null,
   "metadata": {},
   "outputs": [],
   "source": [
    "# Display a barplot of average trip speed vs day of week for all snow depth levels\n",
    "plot_barplot(\n",
    "    pickup_avg_dsnow_sub,\n",
    "    x_var=\"pickup_weekday\",\n",
    "    y_var=\"trip_speed\",\n",
    "    labels=\"wf_snow_depth_lvl\",\n",
    "    xlabel=\"Day of week\",\n",
    "    ylabel=\"Average Speed (Km/h)\",\n",
    "    legend=\"Snow Depth\", title=\"average trip speed vs day of week (subset)\",palette=\"magma_r\",\n",
    ")"
   ]
  },
  {
   "cell_type": "markdown",
   "metadata": {},
   "source": [
    "**Notes:** the barplot above shows the average daily travel speed for each day of the week and each snow depth level. In the taxi trips susbet, no clear difference could be observed between these different levels."
   ]
  },
  {
   "cell_type": "code",
   "execution_count": null,
   "metadata": {},
   "outputs": [],
   "source": [
    "# Display a lineplot of average trip distance vs hour of day for all snow depth levels\n",
    "plot_lineplot(\n",
    "    pickup_avg_dsnow,\n",
    "    x_var=\"pickup_hour\",\n",
    "    y_var=\"trip_distance\",\n",
    "    labels=\"wf_snow_depth_lvl\",\n",
    "    xlabel=\"Time (Hour)\",\n",
    "    ylabel=\"Average Distance (Km)\",\n",
    "    legend=\"Snow Depth\",title=\"average trip distance vs hour of day\"\n",
    ")"
   ]
  },
  {
   "cell_type": "markdown",
   "metadata": {},
   "source": [
    "**Notes:** the lineplot above shows the average daily distance traveled for each hour of the day and snow depth level. No clear differences could be observed between these different levels."
   ]
  },
  {
   "cell_type": "code",
   "execution_count": null,
   "metadata": {},
   "outputs": [],
   "source": [
    "# Display a lineplot of average trip duration vs hour of day for all snow depth levels\n",
    "plot_lineplot(\n",
    "    pickup_avg_dsnow,\n",
    "    x_var=\"pickup_hour\",\n",
    "    y_var=\"trip_duration\",\n",
    "    labels=\"wf_snow_depth_lvl\",\n",
    "    xlabel=\"Time (Hour)\",\n",
    "    ylabel=\"Average Duration (Min)\",\n",
    "    legend=\"Snow Depth\",title=\"average trip duration vs hour of day\"\n",
    ")"
   ]
  },
  {
   "cell_type": "markdown",
   "metadata": {},
   "source": [
    "**Notes:** the lineplot above shows the average daily travel duration for each hour of the day and snow depth level. No clear differences could be observed between these different levels. However, by examining the variation in high snow depth, we can observe that under specific conditions, snow can strongly affect travel time."
   ]
  },
  {
   "cell_type": "code",
   "execution_count": null,
   "metadata": {},
   "outputs": [],
   "source": [
    "# Display a lineplot of average trip duration vs hour of day for all now depth levels\n",
    "plot_lineplot(\n",
    "    pickup_avg_dsnow,\n",
    "    x_var=\"pickup_hour\",\n",
    "    y_var=\"trip_speed\",\n",
    "    labels=\"wf_snow_depth_lvl\",\n",
    "    xlabel=\"Time (Hour)\",\n",
    "    ylabel=\"Average speed (Km/h)\",\n",
    "    legend=\"Snow Depth\",title=\"average trip duration vs hour of day\"\n",
    ")"
   ]
  },
  {
   "cell_type": "markdown",
   "metadata": {},
   "source": [
    "**Notes:** the lineplot above shows the average daily travel speedfor each hour of the day and snow depth level. No clear differences could be observed between these different levels."
   ]
  },
  {
   "cell_type": "code",
   "execution_count": null,
   "metadata": {},
   "outputs": [],
   "source": [
    "# Display a lineplot of average trip duration vs hour of day for all snow depth levels\n",
    "plot_lineplot(\n",
    "    pickup_avg_dsnow_sub,\n",
    "    x_var=\"pickup_hour\",\n",
    "    y_var=\"trip_duration\",\n",
    "    labels=\"wf_snow_depth_lvl\",\n",
    "    xlabel=\"Time (Hour)\",\n",
    "    ylabel=\"Average Duration (Min)\",\n",
    "    legend=\"Snow Depth\",\n",
    "    title=\"average trip duration vs hour of day (subset)\",\n",
    "    palette=\"magma_r\",\n",
    ")"
   ]
  },
  {
   "cell_type": "markdown",
   "metadata": {},
   "source": [
    "**Notes:** the lineplot above shows the average daily travel duration for each hour of the day and snow depth level. In the taxi trips subset, no clear differences could be observed between these different levels. However, by examining the variation in high snow depth, we can observe that under specific conditions, snow can will affect travel time."
   ]
  },
  {
   "cell_type": "code",
   "execution_count": null,
   "metadata": {},
   "outputs": [],
   "source": [
    "# Display a lineplot of average trip duration vs hour of day for all now depth levels\n",
    "plot_lineplot(\n",
    "    pickup_avg_dsnow_sub,\n",
    "    x_var=\"pickup_hour\",\n",
    "    y_var=\"trip_speed\",\n",
    "    labels=\"wf_snow_depth_lvl\",\n",
    "    xlabel=\"Time (Hour)\",\n",
    "    ylabel=\"Average speed (Km/h)\",\n",
    "    legend=\"Snow Depth\",\n",
    "    title=\"average trip duration vs hour of day (subset)\",\n",
    "    palette=\"magma_r\",\n",
    ")"
   ]
  },
  {
   "cell_type": "markdown",
   "metadata": {},
   "source": [
    "**Notes:** the lineplot above shows the average daily travel speedfor each hour of the day and snow depth level. In the taxi trips subset, no clear differences could be observed between these different levels."
   ]
  },
  {
   "cell_type": "markdown",
   "metadata": {
    "jp-MarkdownHeadingCollapsed": true,
    "tags": []
   },
   "source": [
    "## 2.2.1 External Dataset: Temporal Analysis of Holidays Data \n",
    "### Goal:\n",
    "Detect and describe patterns, trends, and relationships among temporal features in a subset (1%) of the 2018 NYC yellow cab trip dataset to identify holidays and celebrations that may impact traffic flow, and thus trip duration, in and around New York City.\n",
    "### Code:"
   ]
  },
  {
   "cell_type": "code",
   "execution_count": null,
   "metadata": {},
   "outputs": [],
   "source": [
    "# Add a month column to the weather data frame\n",
    "holidays_df[\"holiday_month\"] = holidays_df[\"holiday_date\"].dt.month\n",
    "\n",
    "# Add a month column to the weather data frame\n",
    "holidays_df[\"holiday_weekday\"] = holidays_df[\"holiday_date\"].dt.dayofweek\n",
    "\n",
    "# Group the holidays data by wholiday date and type\n",
    "# Compute the number days with specific average holiday types\n",
    "holidays_count_viz = (\n",
    "    holidays_df.groupby([\"holiday_month\", \"holiday_type\"])\n",
    "    .size()\n",
    "    .to_frame(\"count\")\n",
    "    .reset_index()\n",
    ").sort_values([\"holiday_type\", \"holiday_month\"])\n",
    "\n",
    "\n",
    "# Replace numerical values by the name of the categories\n",
    "holidays_count_viz[\"holiday_type\"] = holidays_count_viz[\"holiday_type\"].map(\n",
    "    dict(\n",
    "        zip(\n",
    "            np.arange(0, 4),\n",
    "            [\n",
    "                \"Not A Public Holiday\",\n",
    "                \"School Holiday\",\n",
    "                \"Government Holiday\",\n",
    "                \"Federal Holiday\",\n",
    "            ],\n",
    "        )\n",
    "    )\n",
    ")\n",
    "\n",
    "# Display a barplot of the monthly holidays\n",
    "plot_barplot(\n",
    "    holidays_count_viz,\n",
    "    x_var=\"holiday_month\",\n",
    "    y_var=\"count\",\n",
    "    labels=\"holiday_type\",\n",
    "    xlabel=\"Month of Year\",\n",
    "    ylabel=\"Number of Days\",\n",
    "    legend=\"Holiday Type\",\n",
    "    title=\"Holidays in 2018\",\n",
    ")"
   ]
  },
  {
   "cell_type": "markdown",
   "metadata": {},
   "source": [
    "**Note:** the barplot above shows the number of holidays per month for each holiday category. School vacations are the most common type of vacation during the year, followed by federal and government vacations."
   ]
  },
  {
   "cell_type": "code",
   "execution_count": null,
   "metadata": {},
   "outputs": [],
   "source": [
    "# Group the holidays data by wholiday date and type\n",
    "# Compute the number days with specific average holiday types\n",
    "holidays_count_viz = (\n",
    "    holidays_df.groupby([\"holiday_weekday\", \"holiday_type\"])\n",
    "    .size()\n",
    "    .to_frame(\"count\")\n",
    "    .reset_index()\n",
    ").sort_values([\"holiday_weekday\", \"holiday_type\"])\n",
    "\n",
    "\n",
    "# Replace numerical values by the name of the categories\n",
    "holidays_count_viz[\"holiday_type\"] = holidays_count_viz[\"holiday_type\"].map(\n",
    "    dict(\n",
    "        zip(\n",
    "            np.arange(0, 4),\n",
    "            [\n",
    "                \"Not A Public Holiday\",\n",
    "                \"School Holiday\",\n",
    "                \"Government Holiday\",\n",
    "                \"Federal Holiday\",\n",
    "            ],\n",
    "        )\n",
    "    )\n",
    ")\n",
    "\n",
    "# Replace numerical values by the name of the categories\n",
    "holidays_count_viz[\"holiday_weekday\"] = holidays_count_viz[\"holiday_weekday\"].map(\n",
    "    dict(zip(np.arange(0, 7), weekdays))\n",
    ")\n",
    "\n",
    "# Display a barplot of the monthly holidays\n",
    "plot_barplot(\n",
    "    holidays_count_viz,\n",
    "    x_var=\"holiday_type\",\n",
    "    y_var=\"count\",\n",
    "    labels=\"holiday_weekday\",\n",
    "    xlabel=\"Day of the Week\",\n",
    "    ylabel=\"Number of Days\",\n",
    "    legend=\"Holiday Type\",title=\"\"\n",
    ")"
   ]
  },
  {
   "cell_type": "markdown",
   "metadata": {},
   "source": [
    "**Note:** The barplot above shows the sum of days in the year that fall into one of the holidays cateogry. School holidays may be every day of the week, while government and federal holidays are mostly on weekdays. The two holidays which are not considered as public holidays but more as celebrations occur on sunday. This is noteworthy since the number of taxi trips, their distance, duration, and speed are all highly dependent on the day of the week and hour of the day."
   ]
  },
  {
   "cell_type": "code",
   "execution_count": null,
   "metadata": {},
   "outputs": [],
   "source": [
    "# Group taxi trips by pickup year-day, week-day, hour, holiday, and holiday type\n",
    "# Compute the number of daily trip\n",
    "pickup_count_holidays = (\n",
    "    train_df.groupby(\n",
    "        [\"pickup_yearday\", \"pickup_weekday\", \"pickup_hour\", \"holiday\", \"holiday_type\"]\n",
    "    )\n",
    "    .size()\n",
    "    .to_frame(\"count\")\n",
    "    .reset_index()\n",
    ").sort_values([\"holiday_type\", \"pickup_weekday\"])\n",
    "\n",
    "# Replace zero counts with NaN to prevent lowering the average.\n",
    "pickup_count_holidays[\"count\"].replace(0, np.nan, inplace=True)\n",
    "\n",
    "# Replace numerical values by the name of the categories\n",
    "pickup_count_holidays[\"holiday\"] = pickup_count_holidays[\"holiday\"].map(\n",
    "    {0: \"Not a Holiday\", 1: \"Holiday\"}\n",
    ")\n",
    "\n",
    "# Replace numerical values by the name of the categories\n",
    "pickup_count_holidays[\"holiday_type\"] = pickup_count_holidays[\"holiday_type\"].map(\n",
    "    dict(\n",
    "        zip(\n",
    "            np.arange(0, 4),\n",
    "            holidays_type,\n",
    "        )\n",
    "    )\n",
    ")\n",
    "\n",
    "# Replace numerical values by the name of the categories\n",
    "pickup_count_holidays[\"pickup_weekday\"] = pickup_count_holidays[\"pickup_weekday\"].map(\n",
    "    dict(zip(np.arange(0, 7), weekdays))\n",
    ")\n",
    "\n",
    "# Display the first five rows of the data frame\n",
    "pickup_count_holidays.head()"
   ]
  },
  {
   "cell_type": "code",
   "execution_count": null,
   "metadata": {},
   "outputs": [],
   "source": [
    "# Group taxi trips by pickup year-day, week-day, hour, and average temperature\n",
    "# Compute the number of daily trip\n",
    "pickup_count_holidays_sub = (\n",
    "    train_sub_df.groupby(\n",
    "        [\"pickup_yearday\", \"pickup_weekday\", \"pickup_hour\", \"holiday\", \"holiday_type\"]\n",
    "    )\n",
    "    .size()\n",
    "    .to_frame(\"count\")\n",
    "    .reset_index()\n",
    ").sort_values([\"holiday_type\", \"pickup_weekday\"])\n",
    "\n",
    "# Replace zero counts with NaN to prevent lowering the average.\n",
    "pickup_count_holidays_sub[\"count\"].replace(0, np.nan, inplace=True)\n",
    "\n",
    "# Replace numerical values by the name of the categories\n",
    "pickup_count_holidays_sub[\"holiday\"] = pickup_count_holidays_sub[\"holiday\"].map(\n",
    "    {0: \"Not a Holiday\", 1: \"Holiday\"}\n",
    ")\n",
    "\n",
    "# Replace numerical values by the name of the categories\n",
    "pickup_count_holidays_sub[\"holiday_type\"] = pickup_count_holidays_sub[\"holiday_type\"].map(\n",
    "    dict(\n",
    "        zip(\n",
    "            np.arange(0, 4),\n",
    "            holidays_type,\n",
    "        )\n",
    "    )\n",
    ")\n",
    "\n",
    "# Replace numerical values by the name of the categories\n",
    "pickup_count_holidays_sub[\"pickup_weekday\"] = pickup_count_holidays_sub[\"pickup_weekday\"].map(\n",
    "    dict(zip(np.arange(0, 7), weekdays))\n",
    ")\n",
    "\n",
    "# Display the first five rows of the data frame\n",
    "pickup_count_holidays_sub.head()"
   ]
  },
  {
   "cell_type": "code",
   "execution_count": null,
   "metadata": {},
   "outputs": [],
   "source": [
    "# Display a boxplot of daily taxi trip vs holidays\n",
    "plot_boxplot(\n",
    "    pickup_count_holidays,\n",
    "    x_var=\"holiday\",\n",
    "    y_var=\"count\",\n",
    "    xlabel=\"\",\n",
    "    ylabel=\"Daily Taxi Trips\",\n",
    "    title=\"daily taxi trips\",\n",
    ")"
   ]
  },
  {
   "cell_type": "markdown",
   "metadata": {},
   "source": [
    "**Note:** the boxplot above shows the average number of daily taxi trips for vacation and regular days. Overall, there is no difference in the number of cab rides between vacation days and normal days. However, we have seen above that this is not entirely accurate, as during the spring break the number of trips increases substantially, while fewer trips were observed for several other holidays, such as Christmas Eve. "
   ]
  },
  {
   "cell_type": "code",
   "execution_count": null,
   "metadata": {},
   "outputs": [],
   "source": [
    "# Display a barplot of average taxi trips vs holidays categories\n",
    "plot_boxplot(\n",
    "    pickup_count_holidays,\n",
    "    x_var=\"holiday_type\",\n",
    "    y_var=\"count\",\n",
    "    xlabel=\"Holidays Categories\",\n",
    "    ylabel=\"Daily Taxi Trips\",\n",
    "    title=\"daily taxi trips vs holidays categories\",\n",
    ")"
   ]
  },
  {
   "cell_type": "markdown",
   "metadata": {},
   "source": [
    "**Note:** the boxplot above shows the average number of daily taxi trips for each holidays category. The average number of daily taxi trips is lower for federal holidays."
   ]
  },
  {
   "cell_type": "code",
   "execution_count": null,
   "metadata": {},
   "outputs": [],
   "source": [
    "# Display a barplot of average daily taxi trips vs day of the week for all holidays categories\n",
    "plot_barplot(\n",
    "    pickup_count_holidays,\n",
    "    x_var=\"pickup_weekday\",\n",
    "    y_var=\"count\",\n",
    "    labels=\"holiday_type\",\n",
    "    xlabel=\"Time (Hours)\",\n",
    "    ylabel=\"Daily Taxi Trips\",\n",
    "    title=\"average daily taxi trips vs day of the week\",\n",
    ")"
   ]
  },
  {
   "cell_type": "markdown",
   "metadata": {},
   "source": [
    "**Note:** the boxplot above shows the average number of daily taxi trips for each day of the week and each holidays category. The average number of taxi trips is lower for federal holidays for each week days and marginally higer for school holidays compared to non-holidays."
   ]
  },
  {
   "cell_type": "code",
   "execution_count": null,
   "metadata": {},
   "outputs": [],
   "source": [
    "# Display a barplot of average daily taxi trips vs hour of day for all holidays categories\n",
    "plot_barplot(\n",
    "    pickup_count_holidays,\n",
    "    x_var=\"pickup_hour\",\n",
    "    y_var=\"count\",\n",
    "    labels=\"holiday_type\",\n",
    "    xlabel=\"Time (Hours)\",\n",
    "    ylabel=\"Daily Taxi Trips\",\n",
    "    legend=\"Avg. Temperature\",\n",
    "    title=\"average daily taxi trips vs hour of day\",\n",
    ")"
   ]
  },
  {
   "cell_type": "markdown",
   "metadata": {},
   "source": [
    "**Note:** the barplot above shows the average number daily of taxi trips for each hour of the day and each holidays category. The average number of cab trips is lower during the peak hours."
   ]
  },
  {
   "cell_type": "code",
   "execution_count": null,
   "metadata": {},
   "outputs": [],
   "source": [
    "# Display a barplot of average daily taxi trip vs holidays\n",
    "plot_boxplot(\n",
    "    pickup_count_holidays_sub,\n",
    "    x_var=\"holiday\",\n",
    "    y_var=\"count\",\n",
    "    xlabel=\"\",\n",
    "    ylabel=\"Daily Taxi Trips\",\n",
    "    title=\"daily taxi trips (subset)\",\n",
    "    palette=\"magma_r\",\n",
    ")"
   ]
  },
  {
   "cell_type": "markdown",
   "metadata": {},
   "source": [
    "**Note:** the boxplot above shows the average number of daily taxi trips for vacation and regular days. In the taxi trips subset, no difference in the number of taxi trips between vacation days and normal days could be observed."
   ]
  },
  {
   "cell_type": "code",
   "execution_count": null,
   "metadata": {},
   "outputs": [],
   "source": [
    "# Display a barplot of average daily taxi trips vs holidays categories\n",
    "plot_boxplot(\n",
    "    pickup_count_holidays_sub,\n",
    "    x_var=\"holiday_type\",\n",
    "    y_var=\"count\",\n",
    "    xlabel=\"Holidays Categories\",\n",
    "    ylabel=\"Daily Taxi Trips\",\n",
    "    title=\"daily taxi trips vs holidays categories (subset)\",\n",
    "    palette=\"magma_r\",\n",
    ")"
   ]
  },
  {
   "cell_type": "markdown",
   "metadata": {},
   "source": [
    "**Note:** the  boxplot above shows the average number of daily taxi trips for each holidays category. In the taxi trips subset, the average number of daily taxi trips is also lower for federal holidays and slightly higher for school vacations compared to non-holidays."
   ]
  },
  {
   "cell_type": "code",
   "execution_count": null,
   "metadata": {},
   "outputs": [],
   "source": [
    "# Display a barplot of average daily taxi trips vs day of the week for all holidays categories\n",
    "plot_barplot(\n",
    "    pickup_count_holidays_sub,\n",
    "    x_var=\"pickup_weekday\",\n",
    "    y_var=\"count\",\n",
    "    labels=\"holiday_type\",\n",
    "    xlabel=\"Time (Hours)\",\n",
    "    ylabel=\"Daily Taxi Trips\",\n",
    "    title=\"average daily taxi trips vs day of the week (subset)\",\n",
    "    palette=\"magma_r\",\n",
    ")"
   ]
  },
  {
   "cell_type": "markdown",
   "metadata": {},
   "source": [
    "**Note:** the barplot above shows the average number of daily taxi trips for each day of the week and each holidays category. In the taxi trips subset, the average number of taxi trips is also lower for federal holidays for each week days and marginally higer for school holidays compared to non-holidays."
   ]
  },
  {
   "cell_type": "code",
   "execution_count": null,
   "metadata": {},
   "outputs": [],
   "source": [
    "# Display a barplot of average daily taxi trips vs hour of day for all holidays categories\n",
    "plot_barplot(\n",
    "    pickup_count_holidays_sub,\n",
    "    x_var=\"pickup_hour\",\n",
    "    y_var=\"count\",\n",
    "    labels=\"holiday_type\",\n",
    "    xlabel=\"Time (Hours)\",\n",
    "    ylabel=\"Daily Taxi Trips\",\n",
    "    legend=\"Holidays\",\n",
    "    title=\"average daily taxi trips vs hour of day (subset)\",\n",
    "    palette=\"magma_r\",\n",
    ")"
   ]
  },
  {
   "cell_type": "markdown",
   "metadata": {},
   "source": [
    "**Note:** the barplot above shows the average number daily of taxi trips for each hour of the day and each holidays category. The average number of taxi trips is lower for federal holidays especially during early morning."
   ]
  },
  {
   "cell_type": "code",
   "execution_count": null,
   "metadata": {},
   "outputs": [],
   "source": [
    "# Group taxi trips by pickup year-day, week-day, hour, and average temperature levels\n",
    "# Compute the mean of trip distances and durations\n",
    "pickup_avg_holidays = (\n",
    "    train_df.groupby(\n",
    "        [\"pickup_yearday\", \"pickup_weekday\", \"pickup_hour\", \"holiday\", \"holiday_type\"]\n",
    "    )\n",
    "    .agg({\"trip_distance\": np.mean, \"trip_duration\": np.mean})\n",
    "    .reset_index()\n",
    ").sort_values([\"holiday_type\", \"pickup_weekday\"])\n",
    "\n",
    "# Compute the average trip speed\n",
    "pickup_avg_holidays[\"trip_speed\"] = np.divide(\n",
    "    pickup_avg_holidays[\"trip_distance\"],\n",
    "    np.divide(pickup_avg_holidays[\"trip_duration\"], 60),\n",
    ")\n",
    "\n",
    "# Replace numerical values by the name of the categories\n",
    "pickup_avg_holidays[\"holiday_type\"] = pickup_avg_holidays[\"holiday_type\"].map(\n",
    "    dict(\n",
    "        zip(\n",
    "            np.arange(0, 4),\n",
    "            holidays_type,\n",
    "        )\n",
    "    )\n",
    ")\n",
    "\n",
    "# Replace numerical values by the name of the categories\n",
    "pickup_avg_holidays[\"pickup_weekday\"] = pickup_avg_holidays[\"pickup_weekday\"].map(\n",
    "    dict(zip(np.arange(0, 7), weekdays))\n",
    ")\n",
    "\n",
    "# Display descriptive statistics of selected columns\n",
    "pickup_avg_holidays[[\"trip_distance\", \"trip_duration\", \"trip_speed\"]].describe()"
   ]
  },
  {
   "cell_type": "code",
   "execution_count": null,
   "metadata": {},
   "outputs": [],
   "source": [
    "# Group taxi trips by pickup year-day, week-day, hour, and average temperature levels\n",
    "# Compute the mean of trip distances and durations\n",
    "pickup_avg_holidays_sub = (\n",
    "    train_sub_df.groupby(\n",
    "        [\"pickup_yearday\", \"pickup_weekday\", \"pickup_hour\", \"holiday\", \"holiday_type\"]\n",
    "    )\n",
    "    .agg({\"trip_distance\": np.mean, \"trip_duration\": np.mean})\n",
    "    .reset_index()\n",
    ").sort_values([\"holiday_type\", \"pickup_weekday\"])\n",
    "\n",
    "# Compute the average trip speed\n",
    "pickup_avg_holidays_sub[\"trip_speed\"] = np.divide(\n",
    "    pickup_avg_holidays_sub[\"trip_distance\"],\n",
    "    np.divide(pickup_avg_holidays_sub[\"trip_duration\"], 60),\n",
    ")\n",
    "\n",
    "# Replace numerical values by the name of the categories\n",
    "pickup_avg_holidays_sub[\"holiday_type\"] = pickup_avg_holidays_sub[\"holiday_type\"].map(\n",
    "    dict(\n",
    "        zip(\n",
    "            np.arange(0, 4),\n",
    "            holidays_type,\n",
    "        )\n",
    "    )\n",
    ")\n",
    "\n",
    "# Replace numerical values by the name of the categories\n",
    "pickup_avg_holidays_sub[\"pickup_weekday\"] = pickup_avg_holidays_sub[\n",
    "    \"pickup_weekday\"\n",
    "].map(dict(zip(np.arange(0, 7), weekdays)))\n",
    "\n",
    "# Display descriptive statistics of selected columns\n",
    "pickup_avg_holidays_sub[[\"trip_distance\", \"trip_duration\", \"trip_speed\"]].describe()"
   ]
  },
  {
   "cell_type": "code",
   "execution_count": null,
   "metadata": {},
   "outputs": [],
   "source": [
    "# Display a boxplot of average trip distance vs hour of day for all holiday types\n",
    "plot_boxplot(\n",
    "    pickup_avg_holidays,\n",
    "    x_var=\"holiday_type\",\n",
    "    y_var=\"trip_distance\",\n",
    "    xlabel=\"Holidays Type\",\n",
    "    ylabel=\"Average Distance (Km)\",\n",
    "    title=\"average trip distance vs hour of day\",\n",
    ")"
   ]
  },
  {
   "cell_type": "markdown",
   "metadata": {},
   "source": [
    "**Note:** The boxplot above shows the average daily distance traveled for each holiday cateogry. The average distance traveled is marginally higher for federal holiday."
   ]
  },
  {
   "cell_type": "code",
   "execution_count": null,
   "metadata": {},
   "outputs": [],
   "source": [
    "# Display a boxplot of average trip duration vs hour of day for all holiday types\n",
    "plot_boxplot(\n",
    "    pickup_avg_holidays,\n",
    "    x_var=\"holiday_type\",\n",
    "    y_var=\"trip_duration\",\n",
    "    xlabel=\"Holidays Type\",\n",
    "    ylabel=\"Average Duration (Min)\",\n",
    "    title=\"average trip duration vs hour of day\",\n",
    ")"
   ]
  },
  {
   "cell_type": "markdown",
   "metadata": {},
   "source": [
    "**Note:** The boxplot above shows the average daily travel duration for each holiday cateogry. The average travel duration is marginally lower for federal holidays."
   ]
  },
  {
   "cell_type": "code",
   "execution_count": null,
   "metadata": {},
   "outputs": [],
   "source": [
    "# Display a boxplot of average trip speed vs types of holidays\n",
    "plot_boxplot(\n",
    "    pickup_avg_holidays,\n",
    "    x_var=\"holiday_type\",\n",
    "    y_var=\"trip_speed\",\n",
    "    xlabel=\"Holidays Type\",\n",
    "    ylabel=\"Average speed (Km/h)\",\n",
    "    title=\"average trip speed vs types of holidays\",\n",
    ")"
   ]
  },
  {
   "cell_type": "markdown",
   "metadata": {},
   "source": [
    "**Note:** The boxplot above shows the average daily travel speed for each holiday cateogry. The average travel speed is higher for federal holiday."
   ]
  },
  {
   "cell_type": "code",
   "execution_count": null,
   "metadata": {},
   "outputs": [],
   "source": [
    "# Display a boxplot of average trip duration vs hour of day for all holiday types\n",
    "plot_boxplot(\n",
    "    pickup_avg_holidays_sub,\n",
    "    x_var=\"holiday_type\",\n",
    "    y_var=\"trip_duration\",\n",
    "    xlabel=\"Holidays Type\",\n",
    "    ylabel=\"Average Duration (Min)\",\n",
    "    title=\"average trip duration vs hour of day (subset)\",\n",
    "    palette=\"magma_r\",\n",
    ")"
   ]
  },
  {
   "cell_type": "markdown",
   "metadata": {},
   "source": [
    "**Note:** The boxplot above shows the average daily travel duration for each holiday cateogry. In the taxi trips subset, the average travel duration is also lower for federal holidays. "
   ]
  },
  {
   "cell_type": "code",
   "execution_count": null,
   "metadata": {},
   "outputs": [],
   "source": [
    "# Display a boxplot of average trip speed vs types of holidays\n",
    "plot_boxplot(\n",
    "    pickup_avg_holidays_sub,\n",
    "    x_var=\"holiday_type\",\n",
    "    y_var=\"trip_speed\",\n",
    "    xlabel=\"Holidays Type\",\n",
    "    ylabel=\"Average speed (Km/h)\",\n",
    "    title=\"average trip speed vs types of holidays (subset)\",\n",
    "    palette=\"magma_r\",\n",
    ")"
   ]
  },
  {
   "cell_type": "markdown",
   "metadata": {},
   "source": [
    "**Note:** The boxplot above shows the average daily travel speed for each holiday cateogry. In the taxi trips subset, the average travel speed is also higher for federal holiday."
   ]
  },
  {
   "cell_type": "code",
   "execution_count": null,
   "metadata": {},
   "outputs": [],
   "source": [
    "# Display a lineplot of average trip distance vs hour of day for all types of holidays\n",
    "plot_lineplot(\n",
    "    pickup_avg_holidays,\n",
    "    x_var=\"pickup_hour\",\n",
    "    y_var=\"trip_distance\",\n",
    "    labels=\"holiday_type\",\n",
    "    xlabel=\"Time (Hours)\",\n",
    "    ylabel=\"Average Distance (Km)\",\n",
    "    legend=\"Holidays\",\n",
    "    title=\"average trip distance vs hour of day\",\n",
    ")"
   ]
  },
  {
   "cell_type": "markdown",
   "metadata": {},
   "source": [
    "**Note:** The line plot above shows the average daily distance traveled for each hour of day and each holiday cateogry. The average distance traveled is marginally higher for federal holiday."
   ]
  },
  {
   "cell_type": "code",
   "execution_count": null,
   "metadata": {},
   "outputs": [],
   "source": [
    "# Display a lineplot of average trip duration vs hour of day for all types of holidays\n",
    "plot_lineplot(\n",
    "    pickup_avg_holidays,\n",
    "    x_var=\"pickup_hour\",\n",
    "    y_var=\"trip_duration\",\n",
    "    labels=\"holiday_type\",\n",
    "    xlabel=\"Time (Hours)\",\n",
    "    ylabel=\"Average Duration (Min)\",\n",
    "    legend=\"Holidays\",\n",
    "    title=\"average trip duration vs hour of day\",\n",
    ")"
   ]
  },
  {
   "cell_type": "markdown",
   "metadata": {},
   "source": [
    "**Note:** The line plot above shows the average daily travel duration for each hour of day and each holiday cateogry. The average travel time is lower for federal holidays during peak hours, and conversely higher for school vacations. The large variation observed for school holidays is due to the difference in ridership observed between traditional school vacations and spring breaks. We have previously observed that the number of traxi trips, and thus indirectly traffic congestion in the city, increases sharply in March. "
   ]
  },
  {
   "cell_type": "code",
   "execution_count": null,
   "metadata": {},
   "outputs": [],
   "source": [
    "# Display a lineplot of average trip speed vs hour of day for all types of holidays\n",
    "plot_lineplot(\n",
    "    pickup_avg_holidays,\n",
    "    x_var=\"pickup_hour\",\n",
    "    y_var=\"trip_speed\",\n",
    "    labels=\"holiday_type\",\n",
    "    xlabel=\"Time (Hours)\",\n",
    "    ylabel=\"Average speed (Km/h)\",\n",
    "    legend=\"Holidays\",\n",
    "    title=\"average trip speed vs hour of day\",\n",
    ")"
   ]
  },
  {
   "cell_type": "markdown",
   "metadata": {},
   "source": [
    "**Note:** The line plot above shows the average daily travel speed for each hour of day and each holiday cateogry. The average travel speed is higher for federal holidays during peak hours, and conversely lower for school vacations. As previously stated, The large variation observed for school holidays is due to the difference in ridership observed between traditional school vacations and spring breaks. The exact causes leading to these increases and decreases are  many and varied, and investigation of each possible cause is beyond the scope of this work."
   ]
  },
  {
   "cell_type": "code",
   "execution_count": null,
   "metadata": {},
   "outputs": [],
   "source": [
    "# Display a lineplot of average trip duration vs hour of day for all types of holidays\n",
    "plot_lineplot(\n",
    "    pickup_avg_holidays_sub,\n",
    "    x_var=\"pickup_hour\",\n",
    "    y_var=\"trip_duration\",\n",
    "    labels=\"holiday_type\",\n",
    "    xlabel=\"Time (Hours)\",\n",
    "    ylabel=\"Average Duration (Min)\",\n",
    "    legend=\"Holidays\",\n",
    "    title=\"average trip duration vs hour of day (subset)\",\n",
    "    palette=\"magma_r\",\n",
    ")"
   ]
  },
  {
   "cell_type": "markdown",
   "metadata": {},
   "source": [
    "**Note:** The line plot above shows the average daily travel duration for each hour of day and each holiday cateogry. In the taxi trips subset, the average travel time is lower for federal holidays during peak hours. This observation corroborates what was discussed above."
   ]
  },
  {
   "cell_type": "code",
   "execution_count": null,
   "metadata": {},
   "outputs": [],
   "source": [
    "# Display a lineplot of average trip speed vs hour of day for all types of holidays\n",
    "plot_lineplot(\n",
    "    pickup_avg_holidays_sub,\n",
    "    x_var=\"pickup_hour\",\n",
    "    y_var=\"trip_speed\",\n",
    "    labels=\"holiday_type\",\n",
    "    xlabel=\"Time (Hours)\",\n",
    "    ylabel=\"Average speed (Km/h)\",\n",
    "    legend=\"Holidays\",\n",
    "    title=\"average trip speed vs hour of day (subset)\",\n",
    "    palette=\"magma_r\",\n",
    ")"
   ]
  },
  {
   "cell_type": "markdown",
   "metadata": {},
   "source": [
    "**Note:** The line plot above shows the average daily travel speed for each hour of day and each holiday cateogry. In the taxi trips subset, the average travel speed is also higher for federal holidays during peak hours. This observation corroborates what was discussed above."
   ]
  },
  {
   "cell_type": "markdown",
   "metadata": {
    "tags": []
   },
   "source": [
    "## 2.3 Combined Dataset: Exploratory Data Analysis\n",
    "## 2.3.1 Correlation Analysis of Combined Data \n",
    "### Goal:\n",
    "Measure the strength of the linear relationship between every feature of the dataset.\n",
    "### Code:"
   ]
  },
  {
   "cell_type": "code",
   "execution_count": null,
   "metadata": {},
   "outputs": [],
   "source": [
    "# Display a heatmap of the correlation matrix for all features of the data frame\n",
    "plot_corrmap(train_df.corr())"
   ]
  },
  {
   "cell_type": "markdown",
   "metadata": {},
   "source": [
    "**Note:** The correlation heatmap above shows the Pearson correlation index obtained for all features in the data set. A significant correlation can be observed between trip duration and trip distance, toll amount, and latitude and longitude of pickup and drop-off zones and boroughs. However, no correlation was found between trip length and weather and holidays variables."
   ]
  },
  {
   "cell_type": "markdown",
   "metadata": {},
   "source": [
    "***"
   ]
  }
 ],
 "metadata": {
  "colab": {
   "authorship_tag": "ABX9TyPBFy6LDJ28+i+mv+3BWFx7",
   "collapsed_sections": [],
   "include_colab_link": true,
   "name": "01.data",
   "provenance": [],
   "toc_visible": true
  },
  "interpreter": {
   "hash": "f0bf25c6fa4e57b7fa36a98c8f4215014c209bd59bf7f61e8cb59f3c04a18758"
  },
  "kernelspec": {
   "display_name": "Python 3",
   "language": "python",
   "name": "python3"
  },
  "language_info": {
   "codemirror_mode": {
    "name": "ipython",
    "version": 3
   },
   "file_extension": ".py",
   "mimetype": "text/x-python",
   "name": "python",
   "nbconvert_exporter": "python",
   "pygments_lexer": "ipython3",
   "version": "3.6.15"
  },
  "metadata": {
   "interpreter": {
    "hash": "f0bf25c6fa4e57b7fa36a98c8f4215014c209bd59bf7f61e8cb59f3c04a18758"
   }
  }
 },
 "nbformat": 4,
 "nbformat_minor": 4
}
